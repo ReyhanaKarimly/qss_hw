{
 "cells": [
  {
   "cell_type": "code",
   "execution_count": null,
   "metadata": {
    "id": "EavJ2z4qP3Z5"
   },
   "outputs": [],
   "source": [
    "import numpy as np"
   ]
  },
  {
   "cell_type": "markdown",
   "metadata": {
    "id": "mffp8muhP3aQ"
   },
   "source": [
    "### ZIP"
   ]
  },
  {
   "cell_type": "markdown",
   "metadata": {
    "id": "87RPva2lP3aT"
   },
   "source": [
    "The zip() function returns a zip object, which is an iterator of tuples where the first item in each passed iterator is paired together, and then the second item in each passed iterator are paired together etc.\n"
   ]
  },
  {
   "cell_type": "code",
   "execution_count": null,
   "metadata": {
    "colab": {
     "base_uri": "https://localhost:8080/"
    },
    "executionInfo": {
     "elapsed": 2496,
     "status": "ok",
     "timestamp": 1606205629085,
     "user": {
      "displayName": "Muhammad Samadzade",
      "photoUrl": "https://lh3.googleusercontent.com/a-/AOh14GiE4OicB-5QLWrejHnbcrdKYeeN57KBPJGuRXUT=s64",
      "userId": "05002263268089985274"
     },
     "user_tz": -240
    },
    "id": "YIfJClIIP3aX",
    "outputId": "a13fa3d3-382e-4099-e6b1-80906b194613"
   },
   "outputs": [
    {
     "name": "stdout",
     "output_type": "stream",
     "text": [
      "<zip object at 0x7f599add6808>\n",
      "The zipped result is : (('Bob', 24, 40), ('Jack', 21, 50), ('Sham', 23, 60), ('Asti', 22, 70))\n"
     ]
    }
   ],
   "source": [
    "# initializing lists \n",
    "name = [ \"Bob\", \"Jack\", \"Sham\", \"Asti\"] \n",
    "age = [ 24, 21, 23, 22 ] \n",
    "marks = [ 40, 50, 60, 70] \n",
    "\n",
    "# using zip() to map values \n",
    "mapped = zip(name, age, marks) \n",
    "print(mapped)\n",
    "\n",
    "# converting values to print as set \n",
    "mapped = tuple(mapped) \n",
    "\n",
    "# printing resultant values  \n",
    "print(\"The zipped result is : \",end=\"\") \n",
    "print(mapped) "
   ]
  },
  {
   "cell_type": "code",
   "execution_count": null,
   "metadata": {
    "colab": {
     "base_uri": "https://localhost:8080/"
    },
    "executionInfo": {
     "elapsed": 2485,
     "status": "ok",
     "timestamp": 1606205629087,
     "user": {
      "displayName": "Muhammad Samadzade",
      "photoUrl": "https://lh3.googleusercontent.com/a-/AOh14GiE4OicB-5QLWrejHnbcrdKYeeN57KBPJGuRXUT=s64",
      "userId": "05002263268089985274"
     },
     "user_tz": -240
    },
    "id": "CcFqc7T2P3a9",
    "outputId": "50f1e03c-6a52-46ff-c0a2-ef078feaae16"
   },
   "outputs": [
    {
     "data": {
      "text/plain": [
       "[('Bob', 24, 40), ('Jack', 21, 50), ('Sham', 23, 60), ('Asti', 22, 70)]"
      ]
     },
     "execution_count": 3,
     "metadata": {
      "tags": []
     },
     "output_type": "execute_result"
    }
   ],
   "source": [
    "mapped2 = list(mapped)\n",
    "mapped2"
   ]
  },
  {
   "cell_type": "code",
   "execution_count": null,
   "metadata": {
    "id": "Cxqeug6DP3bO"
   },
   "outputs": [],
   "source": [
    "name = [ \"Bob\", \"Jack\", \"Sham\", \"Asti\"] \n",
    "roll_no = [ 4, 1, 3, 2 ] \n",
    "marks = [ 40, 50, 60, 70 ]"
   ]
  },
  {
   "cell_type": "code",
   "execution_count": null,
   "metadata": {
    "id": "0bsFQO5RP3bg"
   },
   "outputs": [],
   "source": [
    "mapped = zip(name, roll_no, marks) "
   ]
  },
  {
   "cell_type": "code",
   "execution_count": null,
   "metadata": {
    "colab": {
     "base_uri": "https://localhost:8080/"
    },
    "executionInfo": {
     "elapsed": 2476,
     "status": "ok",
     "timestamp": 1606205629094,
     "user": {
      "displayName": "Muhammad Samadzade",
      "photoUrl": "https://lh3.googleusercontent.com/a-/AOh14GiE4OicB-5QLWrejHnbcrdKYeeN57KBPJGuRXUT=s64",
      "userId": "05002263268089985274"
     },
     "user_tz": -240
    },
    "id": "TFnQCT0TP3bv",
    "outputId": "9c57b5cb-ea25-4049-eb45-cf048d27e250"
   },
   "outputs": [
    {
     "name": "stdout",
     "output_type": "stream",
     "text": [
      "The zipped result is : (('Bob', 4, 40), ('Jack', 1, 50), ('Sham', 3, 60), ('Asti', 2, 70))\n"
     ]
    }
   ],
   "source": [
    "print(\"The zipped result is : \",end=\"\") \n",
    "print(tuple(mapped)) "
   ]
  },
  {
   "cell_type": "code",
   "execution_count": null,
   "metadata": {
    "id": "P9m0KFv2P3b-"
   },
   "outputs": [],
   "source": []
  },
  {
   "cell_type": "code",
   "execution_count": null,
   "metadata": {
    "id": "Kl21dYXXP3dt"
   },
   "outputs": [],
   "source": [
    "# 1. Lambda functions\n",
    "\n",
    "# A lambda function can take any number of arguments, but they can return only one value in the form of expression.\n",
    "# Single one line function ,Anoymous function(no name),no def, no return"
   ]
  },
  {
   "cell_type": "code",
   "execution_count": null,
   "metadata": {
    "colab": {
     "base_uri": "https://localhost:8080/"
    },
    "executionInfo": {
     "elapsed": 716,
     "status": "ok",
     "timestamp": 1605807656708,
     "user": {
      "displayName": "Muhammad Samadzade",
      "photoUrl": "https://lh3.googleusercontent.com/a-/AOh14GiE4OicB-5QLWrejHnbcrdKYeeN57KBPJGuRXUT=s64",
      "userId": "05002263268089985274"
     },
     "user_tz": -240
    },
    "id": "FsO5IEmhP3d8",
    "outputId": "6ec1305c-ab3e-455f-b911-4b7c5c84859b"
   },
   "outputs": [
    {
     "name": "stdout",
     "output_type": "stream",
     "text": [
      "12\n"
     ]
    }
   ],
   "source": [
    "def cem(a,b,c):\n",
    "    return a+b+c\n",
    "\n",
    "print(cem(3,4,5))"
   ]
  },
  {
   "cell_type": "code",
   "execution_count": null,
   "metadata": {
    "colab": {
     "base_uri": "https://localhost:8080/"
    },
    "executionInfo": {
     "elapsed": 720,
     "status": "ok",
     "timestamp": 1605807658972,
     "user": {
      "displayName": "Muhammad Samadzade",
      "photoUrl": "https://lh3.googleusercontent.com/a-/AOh14GiE4OicB-5QLWrejHnbcrdKYeeN57KBPJGuRXUT=s64",
      "userId": "05002263268089985274"
     },
     "user_tz": -240
    },
    "id": "VgCk2SCMP3eH",
    "outputId": "a28389ed-667c-4b67-bd12-ab09cf798682"
   },
   "outputs": [
    {
     "name": "stdout",
     "output_type": "stream",
     "text": [
      "10\n"
     ]
    }
   ],
   "source": [
    "add=lambda a,b,c: print(a+b+c)\n",
    "add(4, 5, 1)"
   ]
  },
  {
   "cell_type": "code",
   "execution_count": null,
   "metadata": {
    "id": "1q-1tgNyP3eR"
   },
   "outputs": [],
   "source": [
    "def biggest(a,b,c):\n",
    "    if(a>b and a>c):\n",
    "        print(a)\n",
    "    elif(b>a and b>c):\n",
    "        print(b)\n",
    "    else:\n",
    "        print(c)\n",
    "        \n",
    "biggest(2,5,8)"
   ]
  },
  {
   "cell_type": "code",
   "execution_count": null,
   "metadata": {
    "id": "ureosL3PP3eb"
   },
   "outputs": [],
   "source": [
    "lambda a,b,c:a if a>b and a>c else(b if b>a and b>c else c)"
   ]
  },
  {
   "cell_type": "code",
   "execution_count": null,
   "metadata": {
    "colab": {
     "base_uri": "https://localhost:8080/"
    },
    "executionInfo": {
     "elapsed": 693,
     "status": "ok",
     "timestamp": 1605807687184,
     "user": {
      "displayName": "Muhammad Samadzade",
      "photoUrl": "https://lh3.googleusercontent.com/a-/AOh14GiE4OicB-5QLWrejHnbcrdKYeeN57KBPJGuRXUT=s64",
      "userId": "05002263268089985274"
     },
     "user_tz": -240
    },
    "id": "Qk2yXum4P3em",
    "outputId": "84460f7c-c51d-48c1-bc13-c7c33b54e565"
   },
   "outputs": [
    {
     "name": "stdout",
     "output_type": "stream",
     "text": [
      "15\n"
     ]
    }
   ],
   "source": [
    "# Find Biggest element(Nested If else in lambda)\n",
    "find_max=lambda a,b,c:a if a>b and a>c else (b if b>a and b>c else c)\n",
    "print(find_max(6,15,1))"
   ]
  },
  {
   "cell_type": "code",
   "execution_count": null,
   "metadata": {
    "id": "H533SDrxP3eu"
   },
   "outputs": [],
   "source": []
  },
  {
   "cell_type": "code",
   "execution_count": null,
   "metadata": {
    "id": "L28IgvWlP3e3"
   },
   "outputs": [],
   "source": [
    "# Map\n",
    "\n",
    "# Syntax: map(fun, iter)\n",
    "#  fun : It is a function to which map passes each element of given iterable.\n",
    "#  iter : It is a iterable which is to be mapped.\n",
    "# You can pass one or more iterable to the map() function.\n",
    "# The returned value from map() (map object) then can be passed to functions like list() (to create a list), set() (to create a set) ."
   ]
  },
  {
   "cell_type": "code",
   "execution_count": null,
   "metadata": {
    "colab": {
     "base_uri": "https://localhost:8080/",
     "height": 204
    },
    "executionInfo": {
     "elapsed": 707,
     "status": "error",
     "timestamp": 1605807695900,
     "user": {
      "displayName": "Muhammad Samadzade",
      "photoUrl": "https://lh3.googleusercontent.com/a-/AOh14GiE4OicB-5QLWrejHnbcrdKYeeN57KBPJGuRXUT=s64",
      "userId": "05002263268089985274"
     },
     "user_tz": -240
    },
    "id": "uXxzCU2kP3fI",
    "outputId": "840bb6bf-d172-4015-8aae-5301077084be"
   },
   "outputs": [
    {
     "ename": "TypeError",
     "evalue": "ignored",
     "output_type": "error",
     "traceback": [
      "\u001b[0;31m---------------------------------------------------------------------------\u001b[0m",
      "\u001b[0;31mTypeError\u001b[0m                                 Traceback (most recent call last)",
      "\u001b[0;32m<ipython-input-18-36a18abb7bc4>\u001b[0m in \u001b[0;36m<module>\u001b[0;34m()\u001b[0m\n\u001b[1;32m      1\u001b[0m \u001b[0mnums\u001b[0m \u001b[0;34m=\u001b[0m \u001b[0;34m[\u001b[0m\u001b[0;36m1\u001b[0m\u001b[0;34m,\u001b[0m\u001b[0;36m2\u001b[0m\u001b[0;34m,\u001b[0m\u001b[0;36m3\u001b[0m\u001b[0;34m,\u001b[0m\u001b[0;36m4\u001b[0m\u001b[0;34m,\u001b[0m\u001b[0;36m5\u001b[0m\u001b[0;34m]\u001b[0m\u001b[0;34m\u001b[0m\u001b[0;34m\u001b[0m\u001b[0m\n\u001b[0;32m----> 2\u001b[0;31m \u001b[0mnums\u001b[0m \u001b[0;34m=\u001b[0m \u001b[0mnums\u001b[0m\u001b[0;34m*\u001b[0m\u001b[0mnums\u001b[0m\u001b[0;34m\u001b[0m\u001b[0;34m\u001b[0m\u001b[0m\n\u001b[0m\u001b[1;32m      3\u001b[0m \u001b[0mprint\u001b[0m\u001b[0;34m(\u001b[0m\u001b[0mnums\u001b[0m\u001b[0;34m)\u001b[0m\u001b[0;34m\u001b[0m\u001b[0;34m\u001b[0m\u001b[0m\n",
      "\u001b[0;31mTypeError\u001b[0m: can't multiply sequence by non-int of type 'list'"
     ]
    }
   ],
   "source": [
    "nums = [1,2,3,4,5]\n",
    "nums = nums*nums\n",
    "print(nums)"
   ]
  },
  {
   "cell_type": "code",
   "execution_count": null,
   "metadata": {
    "colab": {
     "base_uri": "https://localhost:8080/"
    },
    "executionInfo": {
     "elapsed": 704,
     "status": "ok",
     "timestamp": 1605807700487,
     "user": {
      "displayName": "Muhammad Samadzade",
      "photoUrl": "https://lh3.googleusercontent.com/a-/AOh14GiE4OicB-5QLWrejHnbcrdKYeeN57KBPJGuRXUT=s64",
      "userId": "05002263268089985274"
     },
     "user_tz": -240
    },
    "id": "cXbzTaEGP3fY",
    "outputId": "b3f24c2a-9775-44b5-ac6e-bd5388b2dd56"
   },
   "outputs": [
    {
     "name": "stdout",
     "output_type": "stream",
     "text": [
      "[1, 4, 9, 16, 25]\n"
     ]
    }
   ],
   "source": [
    "nums = [1, 2, 3, 4, 5] \n",
    "for i in range(len(nums)):\n",
    "    # i =1,2,3,4,5\n",
    "    nums[i]=nums[i]**2\n",
    "print(nums)"
   ]
  },
  {
   "cell_type": "code",
   "execution_count": null,
   "metadata": {
    "colab": {
     "base_uri": "https://localhost:8080/"
    },
    "executionInfo": {
     "elapsed": 1017,
     "status": "ok",
     "timestamp": 1605807768552,
     "user": {
      "displayName": "Muhammad Samadzade",
      "photoUrl": "https://lh3.googleusercontent.com/a-/AOh14GiE4OicB-5QLWrejHnbcrdKYeeN57KBPJGuRXUT=s64",
      "userId": "05002263268089985274"
     },
     "user_tz": -240
    },
    "id": "hg_jXhPcP3fl",
    "outputId": "c7a79664-0cb4-4076-df93-1f5fe4a40c4b"
   },
   "outputs": [
    {
     "name": "stdout",
     "output_type": "stream",
     "text": [
      "1 4 9 16 25 \n",
      "\n",
      "[1, 4, 9, 16, 25]\n",
      "\n",
      "\n",
      "\n",
      "\n",
      "[1, 4, 9, 16, 25]\n"
     ]
    }
   ],
   "source": [
    "nums = [1, 2, 3, 4, 5]  \n",
    "def sq(n):    \n",
    "    return n**2\n",
    "\n",
    "#print(sq(nums))\n",
    "list5=[]\n",
    "\n",
    "for i in nums:\n",
    "    #1,2\n",
    "    print(sq(i),end=\" \") # 1,4\n",
    "    list5.append(sq(i)) #[1,4]\n",
    "print('\\n')\n",
    "print(list5)\n",
    "print('\\n')\n",
    "print('\\n')\n",
    "#print(sq(nums))\n",
    "\n",
    "print(list(map(sq,nums)))\n",
    "\n",
    "#square = list(map(sq, nums))\n",
    "#print(square)"
   ]
  },
  {
   "cell_type": "code",
   "execution_count": null,
   "metadata": {
    "colab": {
     "base_uri": "https://localhost:8080/"
    },
    "executionInfo": {
     "elapsed": 729,
     "status": "ok",
     "timestamp": 1605807889602,
     "user": {
      "displayName": "Muhammad Samadzade",
      "photoUrl": "https://lh3.googleusercontent.com/a-/AOh14GiE4OicB-5QLWrejHnbcrdKYeeN57KBPJGuRXUT=s64",
      "userId": "05002263268089985274"
     },
     "user_tz": -240
    },
    "id": "WWQ9_gT6P3fx",
    "outputId": "a2324efd-a237-459c-b7ea-13642e0867d4"
   },
   "outputs": [
    {
     "name": "stdout",
     "output_type": "stream",
     "text": [
      "(1, 4, 9, 16, 25)\n"
     ]
    }
   ],
   "source": [
    "nums = [1, 2, 3, 4, 5]  \n",
    "def sq(n):    \n",
    "    return n*n  \n",
    "square = tuple(map(sq, nums))\n",
    "print(square)"
   ]
  },
  {
   "cell_type": "code",
   "execution_count": null,
   "metadata": {
    "colab": {
     "base_uri": "https://localhost:8080/"
    },
    "executionInfo": {
     "elapsed": 812,
     "status": "ok",
     "timestamp": 1605807892218,
     "user": {
      "displayName": "Muhammad Samadzade",
      "photoUrl": "https://lh3.googleusercontent.com/a-/AOh14GiE4OicB-5QLWrejHnbcrdKYeeN57KBPJGuRXUT=s64",
      "userId": "05002263268089985274"
     },
     "user_tz": -240
    },
    "id": "OHMyvL88P3f5",
    "outputId": "57d021e5-3790-4470-928c-de72111189ee"
   },
   "outputs": [
    {
     "name": "stdout",
     "output_type": "stream",
     "text": [
      "{1, 4, 9, 16, 25}\n"
     ]
    }
   ],
   "source": [
    "nums = [1, 2, 3, 4, 5, 3]  \n",
    "def sq(n):    \n",
    "    return n*n  \n",
    "square = set(map(sq, nums))\n",
    "print(square)"
   ]
  },
  {
   "cell_type": "code",
   "execution_count": null,
   "metadata": {
    "colab": {
     "base_uri": "https://localhost:8080/"
    },
    "executionInfo": {
     "elapsed": 726,
     "status": "ok",
     "timestamp": 1605807910233,
     "user": {
      "displayName": "Muhammad Samadzade",
      "photoUrl": "https://lh3.googleusercontent.com/a-/AOh14GiE4OicB-5QLWrejHnbcrdKYeeN57KBPJGuRXUT=s64",
      "userId": "05002263268089985274"
     },
     "user_tz": -240
    },
    "id": "_CqxpkkIP3gD",
    "outputId": "7150ca9c-4ba9-4ccf-c73f-c685d76dab8a"
   },
   "outputs": [
    {
     "name": "stdout",
     "output_type": "stream",
     "text": [
      "[1, 4, 9, 16, 25]\n",
      "[1, 4, 9, 16, 25]\n",
      "True\n"
     ]
    }
   ],
   "source": [
    "# Using Lambda inside map\n",
    "nums = [1, 2, 3, 4, 5]\n",
    "\n",
    "print(list(map(lambda x:x**2,nums)))\n",
    "\n",
    "\n",
    "square = list(map(lambda x: x**2, nums))\n",
    "print(square)\n",
    "\n",
    "print(5==5)"
   ]
  },
  {
   "cell_type": "code",
   "execution_count": null,
   "metadata": {
    "colab": {
     "base_uri": "https://localhost:8080/"
    },
    "executionInfo": {
     "elapsed": 683,
     "status": "ok",
     "timestamp": 1605807927451,
     "user": {
      "displayName": "Muhammad Samadzade",
      "photoUrl": "https://lh3.googleusercontent.com/a-/AOh14GiE4OicB-5QLWrejHnbcrdKYeeN57KBPJGuRXUT=s64",
      "userId": "05002263268089985274"
     },
     "user_tz": -240
    },
    "id": "_XHiMSoiP3gJ",
    "outputId": "0e98dc6a-d328-4730-a2ef-2eb30d97eb64"
   },
   "outputs": [
    {
     "name": "stdout",
     "output_type": "stream",
     "text": [
      "('Lokesh', 'Bob', 'Tom', 'Developer')\n",
      "['LOKESH', 'BOB', 'TOM', 'DEVELOPER']\n"
     ]
    }
   ],
   "source": [
    "#Convert all elements of list in uppercase\n",
    "people = [\"lokesh\", \"bob\", \"tom\", \"developer\"]\n",
    "\n",
    "\n",
    "print(tuple(map(lambda x:x.capitalize(), people)))\n",
    "\n",
    "up2 = list(map(lambda x:x.capitalize(),people))\n",
    "\n",
    "up = list(map(lambda x: x.upper(), people))\n",
    "print(up)"
   ]
  },
  {
   "cell_type": "code",
   "execution_count": null,
   "metadata": {
    "colab": {
     "base_uri": "https://localhost:8080/"
    },
    "executionInfo": {
     "elapsed": 686,
     "status": "ok",
     "timestamp": 1605807963810,
     "user": {
      "displayName": "Muhammad Samadzade",
      "photoUrl": "https://lh3.googleusercontent.com/a-/AOh14GiE4OicB-5QLWrejHnbcrdKYeeN57KBPJGuRXUT=s64",
      "userId": "05002263268089985274"
     },
     "user_tz": -240
    },
    "id": "3P8I3wXbP3gR",
    "outputId": "b40af9f6-5585-4790-c642-e52cb5c16285"
   },
   "outputs": [
    {
     "name": "stdout",
     "output_type": "stream",
     "text": [
      "[{'first': 'lokesh', 'last': 'sharma'}, {'first': 'Astha', 'last': 'verma'}, {'first': 'jiu', 'last': 'rai'}]\n",
      "<class 'list'>\n",
      "['lokesh', 'Astha', 'jiu']\n"
     ]
    }
   ],
   "source": [
    "names = [\n",
    "    {'first': 'lokesh', 'last': 'sharma'},\n",
    "    {'first': 'Astha', 'last': 'verma'},\n",
    "    {'first': 'jiu', 'last': 'rai'}\n",
    " ]\n",
    "print(names)\n",
    "print(type(names))\n",
    "\n",
    "first_names = list(map(lambda x: x['first'], names))\n",
    "print(first_names)"
   ]
  },
  {
   "cell_type": "code",
   "execution_count": null,
   "metadata": {
    "id": "0EWWSf-LP3gW"
   },
   "outputs": [],
   "source": [
    "names"
   ]
  },
  {
   "cell_type": "code",
   "execution_count": null,
   "metadata": {
    "id": "os3zxMHlP3gc"
   },
   "outputs": [],
   "source": []
  },
  {
   "cell_type": "code",
   "execution_count": null,
   "metadata": {
    "colab": {
     "base_uri": "https://localhost:8080/"
    },
    "executionInfo": {
     "elapsed": 719,
     "status": "ok",
     "timestamp": 1605807997584,
     "user": {
      "displayName": "Muhammad Samadzade",
      "photoUrl": "https://lh3.googleusercontent.com/a-/AOh14GiE4OicB-5QLWrejHnbcrdKYeeN57KBPJGuRXUT=s64",
      "userId": "05002263268089985274"
     },
     "user_tz": -240
    },
    "id": "5SNeiqlIP3gg",
    "outputId": "d46c9cb7-8ea9-4da4-f6b6-aeab59687447"
   },
   "outputs": [
    {
     "name": "stdout",
     "output_type": "stream",
     "text": [
      "['ALFRED', 'TABITHA', 'WILLIAM', 'ARLA']\n"
     ]
    }
   ],
   "source": [
    "# Without Map\n",
    "\n",
    "my_pets = ['alfred', 'tabitha', 'william', 'arla']\n",
    "uppered_pets = []\n",
    "\n",
    "for pet in my_pets:\n",
    "    pet_ = pet.upper()\n",
    "    uppered_pets.append(pet_)\n",
    "\n",
    "print(uppered_pets)"
   ]
  },
  {
   "cell_type": "code",
   "execution_count": null,
   "metadata": {
    "colab": {
     "base_uri": "https://localhost:8080/"
    },
    "executionInfo": {
     "elapsed": 1053,
     "status": "ok",
     "timestamp": 1605808016106,
     "user": {
      "displayName": "Muhammad Samadzade",
      "photoUrl": "https://lh3.googleusercontent.com/a-/AOh14GiE4OicB-5QLWrejHnbcrdKYeeN57KBPJGuRXUT=s64",
      "userId": "05002263268089985274"
     },
     "user_tz": -240
    },
    "id": "U4IZmuilP3gn",
    "outputId": "345ecfec-8d63-48b9-d3fd-a7584c247f89"
   },
   "outputs": [
    {
     "name": "stdout",
     "output_type": "stream",
     "text": [
      "['ALFRED', 'TABITHA', 'WILLIAM', 'ARLA']\n"
     ]
    }
   ],
   "source": [
    "# With Map\n",
    "\n",
    "my_pets = ['alfred', 'tabitha', 'william', 'arla']\n",
    "\n",
    "uppered_pets = list(map(str.upper, my_pets))\n",
    "\n",
    "print(uppered_pets)"
   ]
  },
  {
   "cell_type": "code",
   "execution_count": null,
   "metadata": {
    "id": "LDadlH4xP3gs"
   },
   "outputs": [],
   "source": []
  },
  {
   "cell_type": "code",
   "execution_count": null,
   "metadata": {
    "id": "KYdPHoQJP3gx"
   },
   "outputs": [],
   "source": [
    "# Filter\n",
    "\n",
    "# Syntax: filter(fun, Iter)\n",
    "#  fun: function that tests if each element of a sequence true or not.\n",
    "#  Iter: Iterable which needs to be filtered."
   ]
  },
  {
   "cell_type": "code",
   "execution_count": null,
   "metadata": {
    "colab": {
     "base_uri": "https://localhost:8080/"
    },
    "executionInfo": {
     "elapsed": 1044,
     "status": "ok",
     "timestamp": 1605808059711,
     "user": {
      "displayName": "Muhammad Samadzade",
      "photoUrl": "https://lh3.googleusercontent.com/a-/AOh14GiE4OicB-5QLWrejHnbcrdKYeeN57KBPJGuRXUT=s64",
      "userId": "05002263268089985274"
     },
     "user_tz": -240
    },
    "id": "HFSVd5I8P3g2",
    "outputId": "72c939b9-7985-47de-8b09-a7b46e48166f"
   },
   "outputs": [
    {
     "name": "stdout",
     "output_type": "stream",
     "text": [
      "Odd numbers: [1, 3, 5]\n",
      "Even numbers: [0, 2, 4]\n"
     ]
    }
   ],
   "source": [
    "#Filter out even and odd numbers from list\n",
    "seq = [0, 1, 2, 3, 4, 5]\n",
    "\n",
    "# result contains odd numbers of the list\n",
    "result = filter(lambda x: x % 2 == 1, seq)\n",
    "print(\"Odd numbers:\",list(result))\n",
    "\n",
    "# result contains even numbers of the list\n",
    "result = filter(lambda x: x % 2 == 0, seq)\n",
    "print(\"Even numbers:\",list(result))"
   ]
  },
  {
   "cell_type": "code",
   "execution_count": null,
   "metadata": {
    "id": "HL1kYQvsP3g_"
   },
   "outputs": [],
   "source": []
  },
  {
   "cell_type": "code",
   "execution_count": null,
   "metadata": {
    "colab": {
     "base_uri": "https://localhost:8080/"
    },
    "executionInfo": {
     "elapsed": 708,
     "status": "ok",
     "timestamp": 1605808062582,
     "user": {
      "displayName": "Muhammad Samadzade",
      "photoUrl": "https://lh3.googleusercontent.com/a-/AOh14GiE4OicB-5QLWrejHnbcrdKYeeN57KBPJGuRXUT=s64",
      "userId": "05002263268089985274"
     },
     "user_tz": -240
    },
    "id": "mvKYre53P3hE",
    "outputId": "87db76d5-b2c4-476f-80f2-6837d440cd82"
   },
   "outputs": [
    {
     "name": "stdout",
     "output_type": "stream",
     "text": [
      "[2, 4]\n",
      "[2, 4]\n"
     ]
    }
   ],
   "source": [
    "# Without filter\n",
    "\n",
    "\n",
    "numbers = [1,2,3,4,5]\n",
    "\n",
    "even_numbers = []\n",
    "for number in numbers:\n",
    "    if (number % 2) == 0:\n",
    "        even_numbers.append(number)\n",
    "\n",
    "print(even_numbers)\n",
    "\n",
    "\n",
    "print(list(filter(lambda x:x%2==0,numbers)))\n"
   ]
  },
  {
   "cell_type": "code",
   "execution_count": null,
   "metadata": {
    "id": "WKB4K5_dP3hK"
   },
   "outputs": [],
   "source": [
    "# With filter\n",
    "\n",
    "def even(number):\n",
    "    if (number % 2) == 0:\n",
    "        return True\n",
    "    return False\n",
    "\n",
    "numbers = [1,2,3,4,5]\n",
    "even_numbers = filter(even, numbers)"
   ]
  },
  {
   "cell_type": "code",
   "execution_count": null,
   "metadata": {
    "colab": {
     "base_uri": "https://localhost:8080/"
    },
    "executionInfo": {
     "elapsed": 821,
     "status": "ok",
     "timestamp": 1606108109253,
     "user": {
      "displayName": "Muhammad Samadzade",
      "photoUrl": "https://lh3.googleusercontent.com/a-/AOh14GiE4OicB-5QLWrejHnbcrdKYeeN57KBPJGuRXUT=s64",
      "userId": "05002263268089985274"
     },
     "user_tz": -240
    },
    "id": "spqXjM8hP3hR",
    "outputId": "242910cf-fb82-4cd4-a855-79ec3560aa0f"
   },
   "outputs": [
    {
     "data": {
      "text/plain": [
       "[1, 3, 5]"
      ]
     },
     "execution_count": 4,
     "metadata": {
      "tags": []
     },
     "output_type": "execute_result"
    }
   ],
   "source": [
    "# With filter and lambda\n",
    "\n",
    "numbers = [1,2,3,4,5]\n",
    "\n",
    "even_numbers = list(filter(lambda a: a%2==1, numbers))\n",
    "even_numbers"
   ]
  },
  {
   "cell_type": "code",
   "execution_count": null,
   "metadata": {
    "id": "ne30afIuP3hW"
   },
   "outputs": [],
   "source": []
  },
  {
   "cell_type": "code",
   "execution_count": null,
   "metadata": {
    "id": "1JM8vpKVP3hb"
   },
   "outputs": [],
   "source": [
    "# A dictionary Users(twitter database) is given in which we have username and tweets.\n",
    "users = [\n",
    "    {\"username\": 'samuel', \"tweets\": [\"i love cake\", \"i am good\"]},\n",
    "    {\"username\": 'andy', \"tweets\": []},\n",
    "    {\"username\": 'kumal', \"tweets\": [\"India\", \"Python\"]},\n",
    "    {\"username\": 'sam', \"tweets\": []},\n",
    "    {\"username\": 'lokesh', \"tweets\": [\"i am good\"]},\n",
    "]"
   ]
  },
  {
   "cell_type": "code",
   "execution_count": null,
   "metadata": {
    "colab": {
     "base_uri": "https://localhost:8080/"
    },
    "executionInfo": {
     "elapsed": 853,
     "status": "ok",
     "timestamp": 1605808416518,
     "user": {
      "displayName": "Muhammad Samadzade",
      "photoUrl": "https://lh3.googleusercontent.com/a-/AOh14GiE4OicB-5QLWrejHnbcrdKYeeN57KBPJGuRXUT=s64",
      "userId": "05002263268089985274"
     },
     "user_tz": -240
    },
    "id": "NBlWpV_WP3hf",
    "outputId": "88c96f7a-3d8c-454b-b5fb-5acccffac074"
   },
   "outputs": [
    {
     "data": {
      "text/plain": [
       "[{'tweets': ['i love cake', 'i am good'], 'username': 'samuel'},\n",
       " {'tweets': [], 'username': 'andy'},\n",
       " {'tweets': ['India', 'Python'], 'username': 'kumal'},\n",
       " {'tweets': [], 'username': 'sam'},\n",
       " {'tweets': ['i am good'], 'username': 'lokesh'}]"
      ]
     },
     "execution_count": 40,
     "metadata": {
      "tags": []
     },
     "output_type": "execute_result"
    }
   ],
   "source": [
    "users"
   ]
  },
  {
   "cell_type": "code",
   "execution_count": null,
   "metadata": {
    "colab": {
     "base_uri": "https://localhost:8080/"
    },
    "executionInfo": {
     "elapsed": 689,
     "status": "ok",
     "timestamp": 1605808435316,
     "user": {
      "displayName": "Muhammad Samadzade",
      "photoUrl": "https://lh3.googleusercontent.com/a-/AOh14GiE4OicB-5QLWrejHnbcrdKYeeN57KBPJGuRXUT=s64",
      "userId": "05002263268089985274"
     },
     "user_tz": -240
    },
    "id": "IeBNMU24P3hk",
    "outputId": "14e6b86c-ab1d-45fb-b851-6683954fb8c2"
   },
   "outputs": [
    {
     "name": "stdout",
     "output_type": "stream",
     "text": [
      "({'username': 'andy', 'tweets': []}, {'username': 'sam', 'tweets': []})\n",
      "[{'username': 'samuel', 'tweets': ['i love cake', 'i am good']}, {'username': 'kumal', 'tweets': ['India', 'Python']}, {'username': 'lokesh', 'tweets': ['i am good']}]\n"
     ]
    }
   ],
   "source": [
    "# Filter out Users which dont have any tweets/Inactive Users\n",
    "print(tuple(filter(lambda x: not x['tweets'], users)))\n",
    "\n",
    "inactive_users = list(filter(lambda a: a['tweets'], users))\n",
    "print(inactive_users)"
   ]
  },
  {
   "cell_type": "code",
   "execution_count": null,
   "metadata": {
    "colab": {
     "base_uri": "https://localhost:8080/"
    },
    "executionInfo": {
     "elapsed": 926,
     "status": "ok",
     "timestamp": 1605808514076,
     "user": {
      "displayName": "Muhammad Samadzade",
      "photoUrl": "https://lh3.googleusercontent.com/a-/AOh14GiE4OicB-5QLWrejHnbcrdKYeeN57KBPJGuRXUT=s64",
      "userId": "05002263268089985274"
     },
     "user_tz": -240
    },
    "id": "He4cxwDeP3ho",
    "outputId": "4b67455f-f8d0-479f-b331-3432c31fd663"
   },
   "outputs": [
    {
     "name": "stdout",
     "output_type": "stream",
     "text": [
      "['ANDY', 'SAM']\n",
      "['ANDY', 'SAM']\n"
     ]
    }
   ],
   "source": [
    "# Filter inactive users with just username in uppercase.\n",
    "inactive_users=list(map(lambda x:x[\"username\"].upper(),\n",
    "                    filter(lambda a:not a['tweets'], users)))\n",
    "\n",
    "\n",
    "print(list(map(lambda x:x['username'].upper(),filter(lambda x: not x['tweets'],users))))\n",
    "\n",
    "\n",
    "print(inactive_users)"
   ]
  },
  {
   "cell_type": "code",
   "execution_count": null,
   "metadata": {
    "colab": {
     "base_uri": "https://localhost:8080/"
    },
    "executionInfo": {
     "elapsed": 664,
     "status": "ok",
     "timestamp": 1605808575358,
     "user": {
      "displayName": "Muhammad Samadzade",
      "photoUrl": "https://lh3.googleusercontent.com/a-/AOh14GiE4OicB-5QLWrejHnbcrdKYeeN57KBPJGuRXUT=s64",
      "userId": "05002263268089985274"
     },
     "user_tz": -240
    },
    "id": "bhq87T0kP3hq",
    "outputId": "3f8a836d-5e1d-468f-fecb-25dbbd3408e5"
   },
   "outputs": [
    {
     "name": "stdout",
     "output_type": "stream",
     "text": [
      "['your name is lokesh', 'your name is lassie']\n"
     ]
    }
   ],
   "source": [
    "# Return a new list with the string “your name is” + name ,but only if length of name is bigger than 4\n",
    "names=['lokesh','lassie','bob','to']\n",
    "new=list(map(lambda name:f\"your name is {name}\",\n",
    "        filter(lambda x:len(x)>4,names)))\n",
    "print(new)"
   ]
  },
  {
   "cell_type": "code",
   "execution_count": null,
   "metadata": {
    "colab": {
     "base_uri": "https://localhost:8080/"
    },
    "executionInfo": {
     "elapsed": 719,
     "status": "ok",
     "timestamp": 1605808577283,
     "user": {
      "displayName": "Muhammad Samadzade",
      "photoUrl": "https://lh3.googleusercontent.com/a-/AOh14GiE4OicB-5QLWrejHnbcrdKYeeN57KBPJGuRXUT=s64",
      "userId": "05002263268089985274"
     },
     "user_tz": -240
    },
    "id": "XkYkBqmEP3ht",
    "outputId": "b7ad4d4e-a820-4298-b476-bbc133f758c5"
   },
   "outputs": [
    {
     "name": "stdout",
     "output_type": "stream",
     "text": [
      "[(2, 4), (4, 16), (6, 36), (7, 49), (8, 64), (9, 81), (2, 4), (3, 9), (4, 16)]\n"
     ]
    }
   ],
   "source": [
    "# Zip\n",
    "\n",
    "# Without Zip\n",
    "\n",
    "even_numbers = [2,4,6,7,8,9,2,3,4]\n",
    "even_numbers_squared = [4,16,36,49,64,81,4,9,16]\n",
    "combined = []\n",
    "even_numbers_index = 0\n",
    "for number  in even_numbers:\n",
    "    #number =2, 4\n",
    "    squared = even_numbers_squared[even_numbers_index] #squared = 4, 16\n",
    "    squared_tuple = (number, squared)\n",
    "    combined.append(squared_tuple)\n",
    "    even_numbers_index+=1\n",
    "    \n",
    "print(combined)"
   ]
  },
  {
   "cell_type": "code",
   "execution_count": null,
   "metadata": {
    "colab": {
     "base_uri": "https://localhost:8080/"
    },
    "executionInfo": {
     "elapsed": 681,
     "status": "ok",
     "timestamp": 1605808619523,
     "user": {
      "displayName": "Muhammad Samadzade",
      "photoUrl": "https://lh3.googleusercontent.com/a-/AOh14GiE4OicB-5QLWrejHnbcrdKYeeN57KBPJGuRXUT=s64",
      "userId": "05002263268089985274"
     },
     "user_tz": -240
    },
    "id": "bCNJE1p6P3hv",
    "outputId": "ee5e6118-7d26-4753-f9cd-8f2ada95b5d9"
   },
   "outputs": [
    {
     "data": {
      "text/plain": [
       "[(2, 4), (4, 16), (6, 36), (7, 49), (8, 64), (9, 81), (2, 4), (3, 9), (4, 16)]"
      ]
     },
     "execution_count": 47,
     "metadata": {
      "tags": []
     },
     "output_type": "execute_result"
    }
   ],
   "source": [
    "# With Zip\n",
    "\n",
    "even_numbers = [2,4,6,7,8,9,2,3,4]\n",
    "even_numbers_squared = [4,16,36,49,64,81,4,9,16]\n",
    "zipped_result = zip(even_numbers, even_numbers_squared)\n",
    "\n",
    "zip(even_numbers,even_numbers_squared)\n",
    "\n",
    "list(zipped_result)\n"
   ]
  },
  {
   "cell_type": "code",
   "execution_count": null,
   "metadata": {
    "id": "nY3f2rLKP3h0"
   },
   "outputs": [],
   "source": []
  },
  {
   "cell_type": "code",
   "execution_count": null,
   "metadata": {
    "id": "nV5pwkUkP3h5"
   },
   "outputs": [],
   "source": []
  },
  {
   "cell_type": "code",
   "execution_count": null,
   "metadata": {
    "id": "hxfrjZWQP3h_"
   },
   "outputs": [],
   "source": [
    "# REDUCE\n",
    "\n",
    "# The reduce() function accepts a function and a sequence and returns a single value calculated as follows:\n",
    "#   Initially, the function is called with the first two items from the sequence and the result is returned.\n",
    "#   The function is then called again with the result obtained in step 1 and the next value in the sequence. \n",
    "#     This process keeps repeating until there are items in the sequence."
   ]
  },
  {
   "cell_type": "code",
   "execution_count": null,
   "metadata": {
    "colab": {
     "base_uri": "https://localhost:8080/"
    },
    "executionInfo": {
     "elapsed": 727,
     "status": "ok",
     "timestamp": 1605808630295,
     "user": {
      "displayName": "Muhammad Samadzade",
      "photoUrl": "https://lh3.googleusercontent.com/a-/AOh14GiE4OicB-5QLWrejHnbcrdKYeeN57KBPJGuRXUT=s64",
      "userId": "05002263268089985274"
     },
     "user_tz": -240
    },
    "id": "V699nf58P3iD",
    "outputId": "9538208f-a5eb-4644-a294-3afd680cc1ae"
   },
   "outputs": [
    {
     "name": "stdout",
     "output_type": "stream",
     "text": [
      "720\n"
     ]
    }
   ],
   "source": [
    "from functools import reduce\n",
    "\n",
    "seq=[2,3,4,5,6]\n",
    "multiply=reduce(lambda a,b:a*b,seq)\n",
    "\n",
    "reduce(lambda a,b:a*b,seq)\n",
    "\n",
    "#  a=2, b=3 -> reduce -> a =2*3= 6\n",
    "# a =6, b=4 -> reduce -> a = 6*4=24\n",
    "# a = 24, b=5-> a=120\n",
    "# a= 120, b=6-> a=720\n",
    "\n",
    "\n",
    "print(multiply)"
   ]
  },
  {
   "cell_type": "code",
   "execution_count": null,
   "metadata": {
    "id": "xvdTyM7gP3iI"
   },
   "outputs": [],
   "source": []
  },
  {
   "cell_type": "code",
   "execution_count": null,
   "metadata": {
    "id": "a_wtFZz6P3iM"
   },
   "outputs": [],
   "source": []
  },
  {
   "cell_type": "code",
   "execution_count": null,
   "metadata": {
    "id": "DpCiL30-P3iQ"
   },
   "outputs": [],
   "source": []
  },
  {
   "cell_type": "code",
   "execution_count": null,
   "metadata": {
    "colab": {
     "base_uri": "https://localhost:8080/"
    },
    "executionInfo": {
     "elapsed": 911,
     "status": "ok",
     "timestamp": 1606108193755,
     "user": {
      "displayName": "Muhammad Samadzade",
      "photoUrl": "https://lh3.googleusercontent.com/a-/AOh14GiE4OicB-5QLWrejHnbcrdKYeeN57KBPJGuRXUT=s64",
      "userId": "05002263268089985274"
     },
     "user_tz": -240
    },
    "id": "d1Gxyx4oP3iS",
    "outputId": "abc93ca1-7735-4f89-fef4-a37f592e17fb"
   },
   "outputs": [
    {
     "name": "stdout",
     "output_type": "stream",
     "text": [
      "[18.92, 37.09, 10.56, 95.45, 4.67, 78.85, 21.07]\n",
      "['akinremi', 'temidayo']\n",
      "49680\n"
     ]
    }
   ],
   "source": [
    "from functools import reduce \n",
    "\n",
    "# Use map to print the square of each numbers rounded\n",
    "# to two decimal places\n",
    "my_floats = [4.35, 6.09, 3.25, 9.77, 2.16, 8.88, 4.59]\n",
    "\n",
    "# Use filter to print only the names that are less than \n",
    "# or equal to seven letters\n",
    "my_names = [\"olumide\", \"akinremi\", \"josiah\", \"temidayo\", \"omoseun\"]\n",
    "\n",
    "# Use reduce to print the product of these numbers\n",
    "my_numbers = [4, 6, 9, 23, 5]\n",
    "\n",
    "# Fix all three respectively.\n",
    "map_result = list(map(lambda x: round(x*x,2), my_floats))\n",
    "filter_result = list(filter(lambda name: len(name)>7, my_names))\n",
    "reduce_result = reduce(lambda num1, num2: num1 * num2, my_numbers, 2)\n",
    "\n",
    "print(map_result)\n",
    "print(filter_result)\n",
    "print(reduce_result)"
   ]
  },
  {
   "cell_type": "code",
   "execution_count": null,
   "metadata": {
    "id": "s83GFARVP3iU"
   },
   "outputs": [],
   "source": []
  },
  {
   "cell_type": "code",
   "execution_count": null,
   "metadata": {
    "id": "BYbFCIMOMt-V"
   },
   "outputs": [],
   "source": [
    "y = lambda x,y: x*y\n",
    "\n",
    "print(y(2,3))"
   ]
  },
  {
   "cell_type": "code",
   "execution_count": null,
   "metadata": {
    "id": "r4aI0h_-M4Dz"
   },
   "outputs": [],
   "source": []
  }
 ],
 "metadata": {
  "colab": {
   "name": "Lambda zip map reduce edited.ipynb",
   "provenance": []
  },
  "kernelspec": {
   "display_name": "Python 3",
   "language": "python",
   "name": "python3"
  },
  "language_info": {
   "codemirror_mode": {
    "name": "ipython",
    "version": 3
   },
   "file_extension": ".py",
   "mimetype": "text/x-python",
   "name": "python",
   "nbconvert_exporter": "python",
   "pygments_lexer": "ipython3",
   "version": "3.8.5"
  }
 },
 "nbformat": 4,
 "nbformat_minor": 1
}
