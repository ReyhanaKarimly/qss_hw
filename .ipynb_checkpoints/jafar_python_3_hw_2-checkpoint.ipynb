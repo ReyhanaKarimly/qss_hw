{
 "cells": [
  {
   "cell_type": "code",
   "execution_count": 57,
   "id": "37a3fa8b",
   "metadata": {},
   "outputs": [],
   "source": [
    "# 1) Write a Python program to create a lambda function that adds 15 to a given number passed in as an argument,\n",
    "\n",
    "add = lambda x: x + 15\n",
    "\n",
    "# also create a lambda function that multiplies argument x with argument y and print the result.\n",
    "\n",
    "multiply = lambda x, y: x * y"
   ]
  },
  {
   "cell_type": "code",
   "execution_count": 34,
   "id": "673e53ea",
   "metadata": {},
   "outputs": [
    {
     "name": "stdout",
     "output_type": "stream",
     "text": [
      "[0, 1, 4, 9, 16, 25, 36, 49, 64, 81]\n"
     ]
    }
   ],
   "source": [
    "# 2) Write a Python program to square and cube every number in a given list of integers using Lambda.\n",
    "\n",
    "my_list = list(range(10))\n",
    "my_map = map(lambda x: x*x, my_list)\n",
    "print(list(my_map))"
   ]
  },
  {
   "cell_type": "code",
   "execution_count": 35,
   "id": "99f9695e",
   "metadata": {},
   "outputs": [],
   "source": [
    "# 3) Write a lambda function that returns takes x as parameter and returns x+2.\n",
    "# Then assign it to a variable named L.\n",
    "\n",
    "L = lambda x: x + 2"
   ]
  },
  {
   "cell_type": "code",
   "execution_count": 36,
   "id": "af8f5f79",
   "metadata": {},
   "outputs": [],
   "source": [
    "# 4) Write a function which takes two arguments: a and b and returns the multiplication of them: a*b.\n",
    "# Assign it to a variable named f.\n",
    "\n",
    "f = lambda a, b: a * b"
   ]
  },
  {
   "cell_type": "code",
   "execution_count": 37,
   "id": "a2b4ba6a",
   "metadata": {},
   "outputs": [
    {
     "name": "stdout",
     "output_type": "stream",
     "text": [
      "[30, 32, 34, 36, 38, 40, 42, 44, 46, 48]\n"
     ]
    }
   ],
   "source": [
    "# 5) Write a Python program to add two given lists using map and lambda.\n",
    "\n",
    "list_a = list(range(10,20))\n",
    "list_b = list(range(20,30))\n",
    "\n",
    "myFunc = lambda a, b: a + b\n",
    "myMap = map(myFunc, list_a, list_b)\n",
    "print(list(myMap))"
   ]
  },
  {
   "cell_type": "code",
   "execution_count": 38,
   "id": "497dbc1e",
   "metadata": {},
   "outputs": [],
   "source": [
    "# 6) Write a map function that adds plus 5 to each item in the list.\n",
    "\n",
    "my_new_list = list(range(5))\n",
    "addMap = map(lambda x: x + 5, my_new_list)"
   ]
  },
  {
   "cell_type": "code",
   "execution_count": 39,
   "id": "993dc381",
   "metadata": {},
   "outputs": [
    {
     "name": "stdout",
     "output_type": "stream",
     "text": [
      "['Hello, Jafar', 'Hello, Shahin', 'Hello, Murad']\n"
     ]
    }
   ],
   "source": [
    "# 7) Write a map function that adds \"Hello, \" in front of each item in the list.\n",
    "\n",
    "my_str_list = ['Jafar', 'Shahin', 'Murad']\n",
    "helloMap = map(lambda name: 'Hello, ' + name, my_str_list)\n",
    "print(list(helloMap))"
   ]
  },
  {
   "cell_type": "code",
   "execution_count": 40,
   "id": "b1befebc",
   "metadata": {},
   "outputs": [
    {
     "name": "stdout",
     "output_type": "stream",
     "text": [
      "[5, 6, 5]\n"
     ]
    }
   ],
   "source": [
    "# 8) Using map() function and len() function create a list\n",
    "# that's consisted of lengths of each element in the first list.\n",
    "\n",
    "lenMap = map(lambda name: len(name), my_str_list)\n",
    "len_list = list(lenMap)\n",
    "print(len_list)"
   ]
  },
  {
   "cell_type": "code",
   "execution_count": 41,
   "id": "04633251",
   "metadata": {},
   "outputs": [
    {
     "name": "stdout",
     "output_type": "stream",
     "text": [
      "[30, 32, 34, 36, 38, 40, 42, 44, 46, 48]\n"
     ]
    }
   ],
   "source": [
    "# 9) Using map() function and lambda add each elements of two lists together. Use a lambda with two arguments.\n",
    "\n",
    "listMap = map(lambda a, b: a + b, list_a, list_b)\n",
    "print(list(listMap))"
   ]
  },
  {
   "cell_type": "code",
   "execution_count": 42,
   "id": "7fced1ec",
   "metadata": {},
   "outputs": [
    {
     "name": "stdout",
     "output_type": "stream",
     "text": [
      "[2, 1, 2, 4]\n"
     ]
    }
   ],
   "source": [
    "# 10) Using map() , lambda and count() functions create a list\n",
    "#consisted of the number of occurrence of letter: a.\n",
    "\n",
    "name_list = [\"Jafar\", \"Antman\", \"Balkans\", \"Aaaaaron\"]\n",
    "aMap = map(lambda name: name.count(\"a\"), name_list)\n",
    "count_list = list(aMap)\n",
    "print(count_list)"
   ]
  },
  {
   "cell_type": "code",
   "execution_count": 43,
   "id": "da7e2871",
   "metadata": {},
   "outputs": [
    {
     "name": "stdout",
     "output_type": "stream",
     "text": [
      "[2, 2, 2, 5]\n"
     ]
    }
   ],
   "source": [
    "# 11) Using map(), lambda and count() functions create a list\n",
    "#consisted of the number of occurrence of both letters: A and a.\n",
    "\n",
    "name_list = [\"Jafar\", \"Antman\", \"Balkans\", \"Aaaaaron\"]\n",
    "aMap = map(lambda name: name.count(\"a\") + name.count(\"A\"), name_list)\n",
    "count_list = list(aMap)\n",
    "print(count_list)"
   ]
  },
  {
   "cell_type": "code",
   "execution_count": 44,
   "id": "92fd836b",
   "metadata": {},
   "outputs": [
    {
     "name": "stdout",
     "output_type": "stream",
     "text": [
      "[-1, -2, -5]\n"
     ]
    }
   ],
   "source": [
    "# 12) Using filter() function filter the list so that only negative numbers are left.\n",
    "\n",
    "numList = [-1, 1, 3, -2, 4, -5, 8]\n",
    "negativeList = list(filter(lambda num: num < 0, numList))\n",
    "print(negativeList)"
   ]
  },
  {
   "cell_type": "code",
   "execution_count": 45,
   "id": "4561b662",
   "metadata": {},
   "outputs": [
    {
     "name": "stdout",
     "output_type": "stream",
     "text": [
      "[-1, 1, 3, -5]\n"
     ]
    }
   ],
   "source": [
    "# 13) Using filter function, filter the even numbers so that only odd numbers are passed to the new list.\n",
    "\n",
    "oddList = list(filter(lambda num: num%2==1, numList))\n",
    "print(oddList)"
   ]
  },
  {
   "cell_type": "code",
   "execution_count": 46,
   "id": "7c38b543",
   "metadata": {},
   "outputs": [
    {
     "name": "stdout",
     "output_type": "stream",
     "text": [
      "['e', 'a', 'o', 'a', 'o', 'u']\n"
     ]
    }
   ],
   "source": [
    "# 14) Using filter() and list() functions and .lower() method filter all the vowels in a given string.\n",
    "\n",
    "myString = \"YeahNoThankYou\"\n",
    "\n",
    "vowelFilter = list(filter(lambda element: element in 'aeiou', myString))\n",
    "\n",
    "print(vowelFilter)"
   ]
  },
  {
   "cell_type": "code",
   "execution_count": 56,
   "id": "52692c20",
   "metadata": {},
   "outputs": [
    {
     "name": "stdout",
     "output_type": "stream",
     "text": [
      "['1', '0', '0', '7', '4', '8', '8']\n"
     ]
    }
   ],
   "source": [
    "# UNSOLVED\n",
    "# 15) This time using filter() and list() functions filter all the positive integers in the string.\n",
    "\n",
    "myString = \"First is 100, second is 74, third is 88.\"\n",
    "\n",
    "intList = list(filter(str.isdigit, myString))\n",
    "\n",
    "print(intList)"
   ]
  },
  {
   "cell_type": "code",
   "execution_count": 47,
   "id": "ccd3f708",
   "metadata": {},
   "outputs": [
    {
     "name": "stdout",
     "output_type": "stream",
     "text": [
      "[2020, 2022, 1431432, 67878, 2001, 2000, 2010]\n"
     ]
    }
   ],
   "source": [
    "# 16) Using map() and filter() functions add 2000 to the values below 8000.\n",
    "\n",
    "num_list = [20, 22, 1431432, 67878, 1, 0, 10]\n",
    "\n",
    "value_list = list(filter(lambda num: num < 8000, num_list))\n",
    "\n",
    "for i in range(len(num_list)):\n",
    "    if num_list[i] in value_list:\n",
    "        num_list[i] += 2000\n",
    "        \n",
    "print(num_list)"
   ]
  },
  {
   "cell_type": "code",
   "execution_count": 54,
   "id": "abf59138",
   "metadata": {},
   "outputs": [
    {
     "name": "stdout",
     "output_type": "stream",
     "text": [
      "There are 2 odd numbers, and 6 even numbers in the list.\n"
     ]
    }
   ],
   "source": [
    "# 17) Write a Python program to count the even, odd numbers in a given array of integers using Lambda.\n",
    "\n",
    "num_list = [20, 22, 1431432, 67878, 1, 0, 10, 33]\n",
    "\n",
    "odd_count, even_count = 0, 0\n",
    "\n",
    "isEven = lambda num: 1 if num%2==0 else 0\n",
    "\n",
    "isOdd = lambda num: 1 if num%2==1 else 0\n",
    "\n",
    "for element in num_list:\n",
    "    odd_count += isOdd(element)\n",
    "    even_count += isEven(element)\n",
    "    \n",
    "print(f'There are {odd_count} odd numbers, and {even_count} even numbers in the list.')"
   ]
  },
  {
   "cell_type": "code",
   "execution_count": 48,
   "id": "d3ce57bd",
   "metadata": {},
   "outputs": [
    {
     "name": "stdout",
     "output_type": "stream",
     "text": [
      "['leften', 'broken']\n"
     ]
    }
   ],
   "source": [
    "# 18) Write a Python program to filter a given list whether the values in the list\n",
    "# are having length of 6 using Lambda.\n",
    "\n",
    "word_list = ['apple', 'pear', 'right', 'leften', 'sold', 'broken']\n",
    "\n",
    "lenFilter = filter(lambda word: len(word) == 6, word_list)\n",
    "print(list(lenFilter))"
   ]
  },
  {
   "cell_type": "code",
   "execution_count": 49,
   "id": "4f43283a",
   "metadata": {},
   "outputs": [
    {
     "name": "stdout",
     "output_type": "stream",
     "text": [
      "[19, 26, 38, 39]\n"
     ]
    }
   ],
   "source": [
    "# 19) Write a Python program to find numbers divisible by nineteen or thirteen from a list of numbers using Lambda.\n",
    "\n",
    "num_list = [1, 5, 14, 19, 18, 26, 38, 39]\n",
    "\n",
    "divFilter = filter(lambda num: num%13==0 or num%19==0, num_list)\n",
    "print(list(divFilter))"
   ]
  },
  {
   "cell_type": "code",
   "execution_count": 50,
   "id": "ec7a5b31",
   "metadata": {},
   "outputs": [
    {
     "name": "stdout",
     "output_type": "stream",
     "text": [
      "[(10, 15), (11, 16), (12, 17), (13, 18), (14, 19)]\n"
     ]
    }
   ],
   "source": [
    "# 20) Using zip() function and list() function, create a merged list of tuples from the two lists given.\n",
    "\n",
    "list_a = list(range(10,15))\n",
    "list_b = list(range(15,20))\n",
    "\n",
    "merged_list = list(zip(list_a, list_b))\n",
    "print(merged_list)"
   ]
  },
  {
   "cell_type": "code",
   "execution_count": 51,
   "id": "0ae47ecb",
   "metadata": {},
   "outputs": [
    {
     "name": "stdout",
     "output_type": "stream",
     "text": [
      "[(1, 'a'), (2, 'b'), (3, 'c'), (4, 'd'), (5, 'e'), (6, 'f'), (7, 'g')]\n"
     ]
    }
   ],
   "source": [
    "# 21) First create a range from 1 to 8. Then using zip,\n",
    "# merge the given list and the range together to create a new list of tuples.\n",
    "my_range = list(range(1,8))\n",
    "my_list = ['a', 'b', 'c', 'd', 'e', 'f', 'g']\n",
    "\n",
    "tuple_list = list(zip(my_range, my_list))\n",
    "print(tuple_list)"
   ]
  },
  {
   "cell_type": "code",
   "execution_count": 52,
   "id": "4a2a6fb6",
   "metadata": {},
   "outputs": [
    {
     "name": "stdout",
     "output_type": "stream",
     "text": [
      "{1: 'a', 2: 'b', 3: 'c', 4: 'd', 5: 'e', 6: 'f', 7: 'g'}\n"
     ]
    }
   ],
   "source": [
    "# 22) Using zip and dict functions create a dictionary which has its key-value pairs coming from lst1 and lst2.\n",
    "\n",
    "lst1 = list(range(1,8))\n",
    "lst2 = ['a', 'b', 'c', 'd', 'e', 'f', 'g']\n",
    "\n",
    "my_dict = dict(zip(lst1, lst2))\n",
    "print(my_dict)"
   ]
  },
  {
   "cell_type": "code",
   "execution_count": 53,
   "id": "000ab64a",
   "metadata": {},
   "outputs": [
    {
     "name": "stdout",
     "output_type": "stream",
     "text": [
      "[(1, 'e'), (2, 'h'), (3, 'a'), (4, 'b'), (5, 'c'), (6, 'd'), (7, 'f')]\n"
     ]
    }
   ],
   "source": [
    "# 23) Using zip, list and sorted functions create a sorted list of tuples from lst1 and lst2.\n",
    "\n",
    "lst1 = [4, 3, 6, 5, 7, 1, 2]\n",
    "lst2 = ['b', 'a', 'd', 'c', 'f', 'e', 'h']\n",
    "\n",
    "sorted_list = list(zip(lst1, lst2))\n",
    "\n",
    "sorted_list.sort()\n",
    "\n",
    "print(sorted_list)"
   ]
  },
  {
   "cell_type": "code",
   "execution_count": null,
   "id": "b96a20c5",
   "metadata": {},
   "outputs": [],
   "source": []
  }
 ],
 "metadata": {
  "kernelspec": {
   "display_name": "Python 3",
   "language": "python",
   "name": "python3"
  },
  "language_info": {
   "codemirror_mode": {
    "name": "ipython",
    "version": 3
   },
   "file_extension": ".py",
   "mimetype": "text/x-python",
   "name": "python",
   "nbconvert_exporter": "python",
   "pygments_lexer": "ipython3",
   "version": "3.8.5"
  }
 },
 "nbformat": 4,
 "nbformat_minor": 5
}
