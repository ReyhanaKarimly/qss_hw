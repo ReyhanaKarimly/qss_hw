{
 "cells": [
  {
   "cell_type": "code",
   "execution_count": 2,
   "metadata": {},
   "outputs": [],
   "source": [
    "import numpy as np"
   ]
  },
  {
   "cell_type": "markdown",
   "metadata": {},
   "source": [
    "### ZIP"
   ]
  },
  {
   "cell_type": "markdown",
   "metadata": {},
   "source": [
    "The zip() function returns a zip object, which is an iterator of tuples where the first item in each passed iterator is paired together, and then the second item in each passed iterator are paired together etc.\n"
   ]
  },
  {
   "cell_type": "code",
   "execution_count": 7,
   "metadata": {},
   "outputs": [
    {
     "name": "stdout",
     "output_type": "stream",
     "text": [
      "<zip object at 0x0000017B9BAC4708>\n",
      "The zipped result is : (('Bob', 24, 40), ('Jack', 21, 50), ('Sham', 23, 60), ('Asti', 22, 70))\n"
     ]
    }
   ],
   "source": [
    "# initializing lists \n",
    "name = [ \"Bob\", \"Jack\", \"Sham\", \"Asti\"] \n",
    "age = [ 24, 21, 23, 22 ] \n",
    "marks = [ 40, 50, 60, 70] \n",
    "\n",
    "# using zip() to map values \n",
    "mapped = zip(name, age, marks) \n",
    "print(mapped)\n",
    "\n",
    "# converting values to print as set \n",
    "mapped = tuple(mapped) \n",
    "\n",
    "# printing resultant values  \n",
    "print(\"The zipped result is : \",end=\"\") \n",
    "print(mapped) "
   ]
  },
  {
   "cell_type": "code",
   "execution_count": 8,
   "metadata": {},
   "outputs": [
    {
     "data": {
      "text/plain": [
       "[('Bob', 24, 40), ('Jack', 21, 50), ('Sham', 23, 60), ('Asti', 22, 70)]"
      ]
     },
     "execution_count": 8,
     "metadata": {},
     "output_type": "execute_result"
    }
   ],
   "source": [
    "mapped2 = list(mapped)\n",
    "mapped2"
   ]
  },
  {
   "cell_type": "code",
   "execution_count": 19,
   "metadata": {},
   "outputs": [],
   "source": [
    "name = [ \"Bob\", \"Jack\", \"Sham\", \"Asti\"] \n",
    "roll_no = [ 4, 1, 3, 2 ] \n",
    "marks = [ 40, 50, 60, 70 ]"
   ]
  },
  {
   "cell_type": "code",
   "execution_count": 20,
   "metadata": {},
   "outputs": [],
   "source": [
    "mapped = zip(name, roll_no, marks) "
   ]
  },
  {
   "cell_type": "code",
   "execution_count": 21,
   "metadata": {},
   "outputs": [
    {
     "name": "stdout",
     "output_type": "stream",
     "text": [
      "The zipped result is : (('Bob', 4, 40), ('Jack', 1, 50), ('Sham', 3, 60), ('Asti', 2, 70))\n"
     ]
    }
   ],
   "source": [
    "print(\"The zipped result is : \",end=\"\") \n",
    "print(tuple(mapped)) "
   ]
  },
  {
   "cell_type": "code",
   "execution_count": null,
   "metadata": {},
   "outputs": [],
   "source": []
  },
  {
   "cell_type": "markdown",
   "metadata": {},
   "source": [
    "### Reduce"
   ]
  },
  {
   "cell_type": "markdown",
   "metadata": {},
   "source": [
    "A reduce() function is basically a function that performs the same operation to an items of a sequence, using the result of each operation as the first parameter of the next operation. A reduce function, in the end, returns an item, not a list, unlike map() and filter() functions.\n"
   ]
  },
  {
   "cell_type": "code",
   "execution_count": 18,
   "metadata": {},
   "outputs": [
    {
     "name": "stdout",
     "output_type": "stream",
     "text": [
      "17\n",
      "The sum of the list elements is : 17\n",
      "\n",
      "\n",
      "The maximum element of the list is : 6\n"
     ]
    }
   ],
   "source": [
    "# importing functools for reduce() \n",
    "import functools \n",
    "#initializing list \n",
    "lis = [ 1 , 3, 5, 6, 2] \n",
    "a=0\n",
    "for i in lis:\n",
    "    a+=i\n",
    "print(a)\n",
    "\n",
    "# using reduce to compute sum of list \n",
    "print (\"The sum of the list elements is : \",end=\"\") \n",
    "print(functools.reduce(lambda a,b : a+b,lis))\n",
    "print('\\n')\n",
    "# using reduce to compute maximum element from list \n",
    "print (\"The maximum element of the list is : \",end=\"\") \n",
    "print(functools.reduce(lambda a,b : a if a > b else b,lis))"
   ]
  },
  {
   "cell_type": "code",
   "execution_count": 34,
   "metadata": {},
   "outputs": [
    {
     "data": {
      "text/plain": [
       "[1.0, 2.0, 3.0, 4.0]"
      ]
     },
     "execution_count": 34,
     "metadata": {},
     "output_type": "execute_result"
    }
   ],
   "source": [
    "nums = (1, 2, 3, 4) \n",
    "result = list(map(float, nums))\n",
    "result"
   ]
  },
  {
   "cell_type": "code",
   "execution_count": 37,
   "metadata": {},
   "outputs": [],
   "source": [
    "nums =(1, 2, 3, 4) \n",
    "#result = list(map(float, nums))\n",
    "#result"
   ]
  },
  {
   "cell_type": "code",
   "execution_count": null,
   "metadata": {},
   "outputs": [],
   "source": []
  },
  {
   "cell_type": "code",
   "execution_count": 50,
   "metadata": {},
   "outputs": [
    {
     "name": "stdout",
     "output_type": "stream",
     "text": [
      "The sum of the list elements is : "
     ]
    },
    {
     "data": {
      "text/plain": [
       "(<function __main__.<lambda>(a, b)>, [1, 3, 5, 6, 2])"
      ]
     },
     "execution_count": 50,
     "metadata": {},
     "output_type": "execute_result"
    }
   ],
   "source": [
    "# initializing list \n",
    "lis = [ 1 , 3, 5, 6, 2 ] \n",
    "# using reduce to compute sum of list \n",
    "print (\"The sum of the list elements is : \",end=\"\") \n",
    "lambda a,b : a+b,lis"
   ]
  },
  {
   "cell_type": "code",
   "execution_count": null,
   "metadata": {},
   "outputs": [],
   "source": []
  },
  {
   "cell_type": "code",
   "execution_count": null,
   "metadata": {},
   "outputs": [],
   "source": []
  },
  {
   "cell_type": "code",
   "execution_count": null,
   "metadata": {},
   "outputs": [],
   "source": []
  },
  {
   "cell_type": "code",
   "execution_count": 11,
   "metadata": {},
   "outputs": [],
   "source": [
    "# 1. Lambda functions\n",
    "\n",
    "# A lambda function can take any number of arguments, but they can return only one value in the form of expression.\n",
    "# Single one line function ,Anoymous function(no name),no def, no return"
   ]
  },
  {
   "cell_type": "code",
   "execution_count": 69,
   "metadata": {},
   "outputs": [
    {
     "name": "stdout",
     "output_type": "stream",
     "text": [
      "12\n"
     ]
    }
   ],
   "source": [
    "def cem(a,b,c):\n",
    "    return a+b+c\n",
    "\n",
    "print(cem(3,4,5))"
   ]
  },
  {
   "cell_type": "code",
   "execution_count": 68,
   "metadata": {},
   "outputs": [
    {
     "name": "stdout",
     "output_type": "stream",
     "text": [
      "10\n"
     ]
    }
   ],
   "source": [
    "add=lambda a,b,c: print(a+b+c)\n",
    "add(4, 5, 1)"
   ]
  },
  {
   "cell_type": "code",
   "execution_count": 70,
   "metadata": {},
   "outputs": [
    {
     "name": "stdout",
     "output_type": "stream",
     "text": [
      "8\n"
     ]
    }
   ],
   "source": [
    "def biggest(a,b,c):\n",
    "    if(a>b and a>c):\n",
    "        print(a)\n",
    "    elif(b>a and b>c):\n",
    "        print(b)\n",
    "    else:\n",
    "        print(c)\n",
    "        \n",
    "biggest(2,5,8)"
   ]
  },
  {
   "cell_type": "code",
   "execution_count": 71,
   "metadata": {},
   "outputs": [
    {
     "name": "stdout",
     "output_type": "stream",
     "text": [
      "15\n"
     ]
    }
   ],
   "source": [
    "# Find Biggest element(Nested If else in lambda)\n",
    "find_max=lambda a,b,c:a if a>b and a>c else (b if b>a and b>c else c)\n",
    "print(find_max(6,15,1))"
   ]
  },
  {
   "cell_type": "code",
   "execution_count": null,
   "metadata": {},
   "outputs": [],
   "source": []
  },
  {
   "cell_type": "code",
   "execution_count": 15,
   "metadata": {},
   "outputs": [],
   "source": [
    "# Map\n",
    "\n",
    "# Syntax: map(fun, iter)\n",
    "#  fun : It is a function to which map passes each element of given iterable.\n",
    "#  iter : It is a iterable which is to be mapped.\n",
    "# You can pass one or more iterable to the map() function.\n",
    "# The returned value from map() (map object) then can be passed to functions like list() (to create a list), set() (to create a set) ."
   ]
  },
  {
   "cell_type": "code",
   "execution_count": 75,
   "metadata": {},
   "outputs": [
    {
     "ename": "TypeError",
     "evalue": "can't multiply sequence by non-int of type 'list'",
     "output_type": "error",
     "traceback": [
      "\u001b[1;31m---------------------------------------------------------------------------\u001b[0m",
      "\u001b[1;31mTypeError\u001b[0m                                 Traceback (most recent call last)",
      "\u001b[1;32m<ipython-input-75-36a18abb7bc4>\u001b[0m in \u001b[0;36m<module>\u001b[1;34m\u001b[0m\n\u001b[0;32m      1\u001b[0m \u001b[0mnums\u001b[0m \u001b[1;33m=\u001b[0m \u001b[1;33m[\u001b[0m\u001b[1;36m1\u001b[0m\u001b[1;33m,\u001b[0m\u001b[1;36m2\u001b[0m\u001b[1;33m,\u001b[0m\u001b[1;36m3\u001b[0m\u001b[1;33m,\u001b[0m\u001b[1;36m4\u001b[0m\u001b[1;33m,\u001b[0m\u001b[1;36m5\u001b[0m\u001b[1;33m]\u001b[0m\u001b[1;33m\u001b[0m\u001b[1;33m\u001b[0m\u001b[0m\n\u001b[1;32m----> 2\u001b[1;33m \u001b[0mnums\u001b[0m \u001b[1;33m=\u001b[0m \u001b[0mnums\u001b[0m\u001b[1;33m*\u001b[0m\u001b[0mnums\u001b[0m\u001b[1;33m\u001b[0m\u001b[1;33m\u001b[0m\u001b[0m\n\u001b[0m\u001b[0;32m      3\u001b[0m \u001b[0mprint\u001b[0m\u001b[1;33m(\u001b[0m\u001b[0mnums\u001b[0m\u001b[1;33m)\u001b[0m\u001b[1;33m\u001b[0m\u001b[1;33m\u001b[0m\u001b[0m\n",
      "\u001b[1;31mTypeError\u001b[0m: can't multiply sequence by non-int of type 'list'"
     ]
    }
   ],
   "source": [
    "nums = [1,2,3,4,5]\n",
    "nums = nums*nums\n",
    "print(nums)"
   ]
  },
  {
   "cell_type": "code",
   "execution_count": 77,
   "metadata": {},
   "outputs": [
    {
     "name": "stdout",
     "output_type": "stream",
     "text": [
      "[1, 4, 9, 16, 25]\n"
     ]
    }
   ],
   "source": [
    "nums = [1, 2, 3, 4, 5]  \n",
    "def sq(n):    \n",
    "    return n*n  \n",
    "\n",
    "#print(sq(nums))\n",
    "\n",
    "square = list(map(sq, nums))\n",
    "print(square)"
   ]
  },
  {
   "cell_type": "code",
   "execution_count": 78,
   "metadata": {},
   "outputs": [
    {
     "name": "stdout",
     "output_type": "stream",
     "text": [
      "(1, 4, 9, 16, 25)\n"
     ]
    }
   ],
   "source": [
    "nums = [1, 2, 3, 4, 5]  \n",
    "def sq(n):    \n",
    "    return n*n  \n",
    "square = tuple(map(sq, nums))\n",
    "print(square)"
   ]
  },
  {
   "cell_type": "code",
   "execution_count": 80,
   "metadata": {},
   "outputs": [
    {
     "name": "stdout",
     "output_type": "stream",
     "text": [
      "{1, 4, 9, 16, 25}\n"
     ]
    }
   ],
   "source": [
    "nums = [1, 2, 3, 4, 5, 3]  \n",
    "def sq(n):    \n",
    "    return n*n  \n",
    "square = set(map(sq, nums))\n",
    "print(square)"
   ]
  },
  {
   "cell_type": "code",
   "execution_count": 81,
   "metadata": {},
   "outputs": [
    {
     "name": "stdout",
     "output_type": "stream",
     "text": [
      "[1, 4, 27, 256, 3125]\n"
     ]
    }
   ],
   "source": [
    "# Using Lambda inside map\n",
    "nums = [1, 2, 3, 4, 5]\n",
    "square = list(map(lambda x: x**x, nums))\n",
    "print(square)"
   ]
  },
  {
   "cell_type": "code",
   "execution_count": 82,
   "metadata": {},
   "outputs": [
    {
     "name": "stdout",
     "output_type": "stream",
     "text": [
      "['LOKESH', 'BOB', 'TOM', 'DEVELOPER']\n"
     ]
    }
   ],
   "source": [
    "#Convert all elements of list in uppercase\n",
    "people = [\"lokesh\", \"bob\", \"tom\", \"developer\"]\n",
    "up = list(map(lambda x: x.upper(), people))\n",
    "print(up)"
   ]
  },
  {
   "cell_type": "code",
   "execution_count": 83,
   "metadata": {},
   "outputs": [
    {
     "name": "stdout",
     "output_type": "stream",
     "text": [
      "['lokesh', 'Astha', 'jiu']\n"
     ]
    }
   ],
   "source": [
    "names = [\n",
    "    {'first': 'lokesh', 'last': 'sharma'},\n",
    "    {'first': 'Astha', 'last': 'verma'},\n",
    "    {'first': 'jiu', 'last': 'rai'}\n",
    " ]\n",
    "first_names = list(map(lambda x: x['first'], names))\n",
    "print(first_names)"
   ]
  },
  {
   "cell_type": "code",
   "execution_count": 84,
   "metadata": {},
   "outputs": [
    {
     "data": {
      "text/plain": [
       "[{'first': 'lokesh', 'last': 'sharma'},\n",
       " {'first': 'Astha', 'last': 'verma'},\n",
       " {'first': 'jiu', 'last': 'rai'}]"
      ]
     },
     "execution_count": 84,
     "metadata": {},
     "output_type": "execute_result"
    }
   ],
   "source": [
    "names"
   ]
  },
  {
   "cell_type": "code",
   "execution_count": null,
   "metadata": {},
   "outputs": [],
   "source": []
  },
  {
   "cell_type": "code",
   "execution_count": 85,
   "metadata": {},
   "outputs": [
    {
     "name": "stdout",
     "output_type": "stream",
     "text": [
      "['ALFRED', 'TABITHA', 'WILLIAM', 'ARLA']\n"
     ]
    }
   ],
   "source": [
    "# Without Map\n",
    "\n",
    "my_pets = ['alfred', 'tabitha', 'william', 'arla']\n",
    "uppered_pets = []\n",
    "\n",
    "for pet in my_pets:\n",
    "    pet_ = pet.upper()\n",
    "    uppered_pets.append(pet_)\n",
    "\n",
    "print(uppered_pets)"
   ]
  },
  {
   "cell_type": "code",
   "execution_count": 86,
   "metadata": {},
   "outputs": [
    {
     "name": "stdout",
     "output_type": "stream",
     "text": [
      "['ALFRED', 'TABITHA', 'WILLIAM', 'ARLA']\n"
     ]
    }
   ],
   "source": [
    "# With Map\n",
    "\n",
    "my_pets = ['alfred', 'tabitha', 'william', 'arla']\n",
    "\n",
    "uppered_pets = list(map(str.upper, my_pets))\n",
    "\n",
    "print(uppered_pets)"
   ]
  },
  {
   "cell_type": "code",
   "execution_count": null,
   "metadata": {},
   "outputs": [],
   "source": []
  },
  {
   "cell_type": "code",
   "execution_count": 87,
   "metadata": {},
   "outputs": [],
   "source": [
    "# Filter\n",
    "\n",
    "# Syntax: filter(fun, Iter)\n",
    "#  fun: function that tests if each element of a sequence true or not.\n",
    "#  Iter: Iterable which needs to be filtered."
   ]
  },
  {
   "cell_type": "code",
   "execution_count": 88,
   "metadata": {},
   "outputs": [
    {
     "name": "stdout",
     "output_type": "stream",
     "text": [
      "Odd numbers: [1, 3, 5]\n",
      "Even numbers: [0, 2, 4]\n"
     ]
    }
   ],
   "source": [
    "#Filter out even and odd numbers from list\n",
    "seq = [0, 1, 2, 3, 4, 5]\n",
    "\n",
    "# result contains odd numbers of the list\n",
    "result = filter(lambda x: x % 2, seq)\n",
    "print(\"Odd numbers:\",list(result))\n",
    "\n",
    "# result contains even numbers of the list\n",
    "result = filter(lambda x: x % 2 == 0, seq)\n",
    "print(\"Even numbers:\",list(result))"
   ]
  },
  {
   "cell_type": "code",
   "execution_count": null,
   "metadata": {},
   "outputs": [],
   "source": []
  },
  {
   "cell_type": "code",
   "execution_count": 89,
   "metadata": {},
   "outputs": [
    {
     "data": {
      "text/plain": [
       "[2, 4]"
      ]
     },
     "execution_count": 89,
     "metadata": {},
     "output_type": "execute_result"
    }
   ],
   "source": [
    "# Without filter\n",
    "\n",
    "\n",
    "numbers = [1,2,3,4,5]\n",
    "\n",
    "even_numbers = []\n",
    "for number in numbers:\n",
    "    if (number % 2) == 0:\n",
    "        even_numbers.append(number)\n",
    "\n",
    "even_numbers"
   ]
  },
  {
   "cell_type": "code",
   "execution_count": 90,
   "metadata": {},
   "outputs": [],
   "source": [
    "# With filter\n",
    "\n",
    "def even(number):\n",
    "    if (number % 2) == 0:\n",
    "        return True\n",
    "    return False\n",
    "\n",
    "numbers = [1,2,3,4,5]\n",
    "even_numbers = filter(even, numbers)"
   ]
  },
  {
   "cell_type": "code",
   "execution_count": 91,
   "metadata": {},
   "outputs": [
    {
     "data": {
      "text/plain": [
       "[2, 4]"
      ]
     },
     "execution_count": 91,
     "metadata": {},
     "output_type": "execute_result"
    }
   ],
   "source": [
    "# With filter and lambda\n",
    "\n",
    "numbers = [1,2,3,4,5]\n",
    "\n",
    "even_numbers = list(filter(lambda a: a%2==0, numbers))\n",
    "even_numbers"
   ]
  },
  {
   "cell_type": "code",
   "execution_count": null,
   "metadata": {},
   "outputs": [],
   "source": []
  },
  {
   "cell_type": "code",
   "execution_count": 92,
   "metadata": {},
   "outputs": [],
   "source": [
    "# A dictionary Users(twitter database) is given in which we have username and tweets.\n",
    "users = [\n",
    "    {\"username\": 'samuel', \"tweets\": [\"i love cake\", \"i am good\"]},\n",
    "    {\"username\": 'andy', \"tweets\": []},\n",
    "    {\"username\": 'kumal', \"tweets\": [\"India\", \"Python\"]},\n",
    "    {\"username\": 'sam', \"tweets\": []},\n",
    "    {\"username\": 'lokesh', \"tweets\": [\"i am good\"]},\n",
    "]"
   ]
  },
  {
   "cell_type": "code",
   "execution_count": 93,
   "metadata": {},
   "outputs": [
    {
     "data": {
      "text/plain": [
       "[{'username': 'samuel', 'tweets': ['i love cake', 'i am good']},\n",
       " {'username': 'andy', 'tweets': []},\n",
       " {'username': 'kumal', 'tweets': ['India', 'Python']},\n",
       " {'username': 'sam', 'tweets': []},\n",
       " {'username': 'lokesh', 'tweets': ['i am good']}]"
      ]
     },
     "execution_count": 93,
     "metadata": {},
     "output_type": "execute_result"
    }
   ],
   "source": [
    "users"
   ]
  },
  {
   "cell_type": "code",
   "execution_count": 94,
   "metadata": {},
   "outputs": [
    {
     "name": "stdout",
     "output_type": "stream",
     "text": [
      "[{'username': 'andy', 'tweets': []}, {'username': 'sam', 'tweets': []}]\n"
     ]
    }
   ],
   "source": [
    "# Filter out Users which dont have any tweets/Inactive Users\n",
    "inactive_users = list(filter(lambda a:not a['tweets'], users))\n",
    "print(inactive_users)"
   ]
  },
  {
   "cell_type": "code",
   "execution_count": 95,
   "metadata": {},
   "outputs": [
    {
     "name": "stdout",
     "output_type": "stream",
     "text": [
      "['ANDY', 'SAM']\n"
     ]
    }
   ],
   "source": [
    "# Filter inactive users with just username in uppercase.\n",
    "inactive_users=list(map(lambda x:x[\"username\"].upper(),\n",
    "                    filter(lambda a:not a['tweets'], users)))\n",
    "print(inactive_users)"
   ]
  },
  {
   "cell_type": "code",
   "execution_count": 97,
   "metadata": {},
   "outputs": [
    {
     "name": "stdout",
     "output_type": "stream",
     "text": [
      "['your name is lokesh', 'your name is lassie']\n"
     ]
    }
   ],
   "source": [
    "# Return a new list with the string “your name is” + name ,but only if length of name is bigger than 4\n",
    "names=['lokesh','lassie','bob','to']\n",
    "new=list(map(lambda name:f\"your name is {name}\",\n",
    "        filter(lambda x:len(x)>4,names)))\n",
    "print(new)"
   ]
  },
  {
   "cell_type": "code",
   "execution_count": 98,
   "metadata": {},
   "outputs": [
    {
     "name": "stdout",
     "output_type": "stream",
     "text": [
      "[(2, 4), (4, 16), (6, 36), (7, 49), (8, 64), (9, 81), (2, 4), (3, 9), (4, 16)]\n"
     ]
    }
   ],
   "source": [
    "# Zip\n",
    "\n",
    "# Without Zip\n",
    "\n",
    "even_numbers = [2,4,6,7,8,9,2,3,4]\n",
    "even_numbers_squared = [4,16,36,49,64,81,4,9,16]\n",
    "combined = []\n",
    "even_numbers_index = 0\n",
    "for number  in even_numbers:\n",
    "    squared = even_numbers_squared[even_numbers_index]\n",
    "    squared_tuple = (number, squared)\n",
    "    combined.append(squared_tuple)\n",
    "    even_numbers_index+=1\n",
    "    \n",
    "print(combined)"
   ]
  },
  {
   "cell_type": "code",
   "execution_count": 99,
   "metadata": {},
   "outputs": [
    {
     "data": {
      "text/plain": [
       "[(2, 4), (4, 16), (6, 36), (7, 49), (8, 64), (9, 81), (2, 4), (3, 9), (4, 16)]"
      ]
     },
     "execution_count": 99,
     "metadata": {},
     "output_type": "execute_result"
    }
   ],
   "source": [
    "# With Zip\n",
    "\n",
    "even_numbers = [2,4,6,7,8,9,2,3,4]\n",
    "even_numbers_squared = [4,16,36,49,64,81,4,9,16]\n",
    "zipped_result = zip(even_numbers, even_numbers_squared)\n",
    "\n",
    "\n",
    "list(zipped_result)\n"
   ]
  },
  {
   "cell_type": "code",
   "execution_count": null,
   "metadata": {},
   "outputs": [],
   "source": []
  },
  {
   "cell_type": "code",
   "execution_count": null,
   "metadata": {},
   "outputs": [],
   "source": []
  },
  {
   "cell_type": "code",
   "execution_count": 100,
   "metadata": {},
   "outputs": [],
   "source": [
    "# REDUCE\n",
    "\n",
    "# The reduce() function accepts a function and a sequence and returns a single value calculated as follows:\n",
    "#   Initially, the function is called with the first two items from the sequence and the result is returned.\n",
    "#   The function is then called again with the result obtained in step 1 and the next value in the sequence. \n",
    "#     This process keeps repeating until there are items in the sequence."
   ]
  },
  {
   "cell_type": "code",
   "execution_count": 101,
   "metadata": {},
   "outputs": [
    {
     "name": "stdout",
     "output_type": "stream",
     "text": [
      "720\n"
     ]
    }
   ],
   "source": [
    "from functools import reduce\n",
    "\n",
    "seq=[2,3,4,5,6]\n",
    "multiply=reduce(lambda a,b:a*b,seq)\n",
    "print(multiply)"
   ]
  },
  {
   "cell_type": "code",
   "execution_count": null,
   "metadata": {},
   "outputs": [],
   "source": []
  },
  {
   "cell_type": "code",
   "execution_count": null,
   "metadata": {},
   "outputs": [],
   "source": []
  },
  {
   "cell_type": "code",
   "execution_count": null,
   "metadata": {},
   "outputs": [],
   "source": []
  },
  {
   "cell_type": "code",
   "execution_count": 102,
   "metadata": {},
   "outputs": [
    {
     "name": "stdout",
     "output_type": "stream",
     "text": [
      "[4, 6, 3, 10, 2, 9, 5]\n",
      "['akinremi', 'temidayo']\n",
      "24840\n"
     ]
    }
   ],
   "source": [
    "from functools import reduce \n",
    "\n",
    "# Use map to print the square of each numbers rounded\n",
    "# to two decimal places\n",
    "my_floats = [4.35, 6.09, 3.25, 9.77, 2.16, 8.88, 4.59]\n",
    "\n",
    "# Use filter to print only the names that are less than \n",
    "# or equal to seven letters\n",
    "my_names = [\"olumide\", \"akinremi\", \"josiah\", \"temidayo\", \"omoseun\"]\n",
    "\n",
    "# Use reduce to print the product of these numbers\n",
    "my_numbers = [4, 6, 9, 23, 5]\n",
    "\n",
    "# Fix all three respectively.\n",
    "map_result = list(map(lambda x: round(x), my_floats))\n",
    "filter_result = list(filter(lambda name: len(name)>7, my_names))\n",
    "reduce_result = reduce(lambda num1, num2: num1 * num2, my_numbers, 1)\n",
    "\n",
    "print(map_result)\n",
    "print(filter_result)\n",
    "print(reduce_result)"
   ]
  },
  {
   "cell_type": "code",
   "execution_count": null,
   "metadata": {},
   "outputs": [],
   "source": []
  }
 ],
 "metadata": {
  "kernelspec": {
   "display_name": "Python 3",
   "language": "python",
   "name": "python3"
  },
  "language_info": {
   "codemirror_mode": {
    "name": "ipython",
    "version": 3
   },
   "file_extension": ".py",
   "mimetype": "text/x-python",
   "name": "python",
   "nbconvert_exporter": "python",
   "pygments_lexer": "ipython3",
   "version": "3.7.1"
  }
 },
 "nbformat": 4,
 "nbformat_minor": 2
}
