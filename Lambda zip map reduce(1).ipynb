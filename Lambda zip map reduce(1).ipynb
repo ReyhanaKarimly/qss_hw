{
 "cells": [
  {
   "cell_type": "code",
   "execution_count": null,
   "metadata": {
    "colab": {},
    "colab_type": "code",
    "id": "EavJ2z4qP3Z5"
   },
   "outputs": [],
   "source": [
    "import numpy as np"
   ]
  },
  {
   "cell_type": "markdown",
   "metadata": {
    "colab_type": "text",
    "id": "mffp8muhP3aQ"
   },
   "source": [
    "### ZIP"
   ]
  },
  {
   "cell_type": "markdown",
   "metadata": {
    "colab_type": "text",
    "id": "87RPva2lP3aT"
   },
   "source": [
    "The zip() function returns a zip object, which is an iterator of tuples where the first item in each passed iterator is paired together, and then the second item in each passed iterator are paired together etc.\n"
   ]
  },
  {
   "cell_type": "code",
   "execution_count": null,
   "metadata": {
    "colab": {},
    "colab_type": "code",
    "id": "YIfJClIIP3aX",
    "outputId": "9f550941-d1fa-4a89-8d77-3986aba62983"
   },
   "outputs": [],
   "source": [
    "# initializing lists \n",
    "name = [ \"Bob\", \"Jack\", \"Sham\", \"Asti\"] \n",
    "age = [ 24, 21, 23, 22 ] \n",
    "marks = [ 40, 50, 60, 70] \n",
    "\n",
    "# using zip() to map values \n",
    "mapped = zip(name, age, marks) \n",
    "print(mapped)\n",
    "\n",
    "# converting values to print as set \n",
    "mapped = tuple(mapped) \n",
    "\n",
    "# printing resultant values  \n",
    "print(\"The zipped result is : \",end=\"\") \n",
    "print(mapped) "
   ]
  },
  {
   "cell_type": "code",
   "execution_count": null,
   "metadata": {
    "colab": {},
    "colab_type": "code",
    "id": "CcFqc7T2P3a9",
    "outputId": "737993c2-d029-48dc-ab29-7ea44e2847ae"
   },
   "outputs": [],
   "source": [
    "mapped2 = list(mapped)\n",
    "mapped2"
   ]
  },
  {
   "cell_type": "code",
   "execution_count": null,
   "metadata": {
    "colab": {},
    "colab_type": "code",
    "id": "Cxqeug6DP3bO"
   },
   "outputs": [],
   "source": [
    "name = [ \"Bob\", \"Jack\", \"Sham\", \"Asti\"] \n",
    "roll_no = [ 4, 1, 3, 2 ] \n",
    "marks = [ 40, 50, 60, 70 ]"
   ]
  },
  {
   "cell_type": "code",
   "execution_count": null,
   "metadata": {
    "colab": {},
    "colab_type": "code",
    "id": "0bsFQO5RP3bg"
   },
   "outputs": [],
   "source": [
    "mapped = zip(name, roll_no, marks) "
   ]
  },
  {
   "cell_type": "code",
   "execution_count": null,
   "metadata": {
    "colab": {},
    "colab_type": "code",
    "id": "TFnQCT0TP3bv",
    "outputId": "6a3238b3-90f9-42e3-8875-362a4b3804bd"
   },
   "outputs": [],
   "source": [
    "print(\"The zipped result is : \",end=\"\") \n",
    "print(tuple(mapped)) "
   ]
  },
  {
   "cell_type": "code",
   "execution_count": null,
   "metadata": {
    "colab": {},
    "colab_type": "code",
    "id": "P9m0KFv2P3b-"
   },
   "outputs": [],
   "source": []
  },
  {
   "cell_type": "markdown",
   "metadata": {
    "colab_type": "text",
    "id": "lxQHOlxWP3cN"
   },
   "source": [
    "### Reduce"
   ]
  },
  {
   "cell_type": "markdown",
   "metadata": {
    "colab_type": "text",
    "id": "1StDc0nmP3cQ"
   },
   "source": [
    "A reduce() function is basically a function that performs the same operation to an items of a sequence, using the result of each operation as the first parameter of the next operation. A reduce function, in the end, returns an item, not a list, unlike map() and filter() functions.\n"
   ]
  },
  {
   "cell_type": "code",
   "execution_count": null,
   "metadata": {
    "colab": {},
    "colab_type": "code",
    "id": "Mau9EglLP3cS",
    "outputId": "c930b06a-f0fb-4cb2-9c74-e5a23872d0ee"
   },
   "outputs": [],
   "source": [
    "# importing functools for reduce() \n",
    "import functools \n",
    "#initializing list \n",
    "lis = [ 1 , 3, 5, 6, 2] \n",
    "a=0\n",
    "for i in lis:\n",
    "    a+=i\n",
    "print(a)\n",
    "\n",
    "# using reduce to compute sum of list \n",
    "print (\"The sum of the list elements is : \",end=\"\") \n",
    "print(functools.reduce(lambda a,b : a+b,lis))\n",
    "print('\\n')\n",
    "# using reduce to compute maximum element from list \n",
    "print (\"The maximum element of the list is : \",end=\"\") \n",
    "print(functools.reduce(lambda a,b : a if a > b else b,lis))"
   ]
  },
  {
   "cell_type": "code",
   "execution_count": null,
   "metadata": {
    "colab": {},
    "colab_type": "code",
    "id": "3LfieyRHP3cg",
    "outputId": "ecb7b90b-9d52-454d-e535-2186d5a91994"
   },
   "outputs": [],
   "source": [
    "nums = (1, 2, 3, 4) \n",
    "result = list(map(float, nums))\n",
    "result"
   ]
  },
  {
   "cell_type": "code",
   "execution_count": null,
   "metadata": {
    "colab": {},
    "colab_type": "code",
    "id": "zttJpccdP3cu"
   },
   "outputs": [],
   "source": [
    "nums =(1, 2, 3, 4) \n",
    "#result = list(map(float, nums))\n",
    "#result"
   ]
  },
  {
   "cell_type": "code",
   "execution_count": null,
   "metadata": {
    "colab": {},
    "colab_type": "code",
    "id": "z80ncON2P3c3"
   },
   "outputs": [],
   "source": []
  },
  {
   "cell_type": "code",
   "execution_count": null,
   "metadata": {
    "colab": {},
    "colab_type": "code",
    "id": "jILRwJv3P3dF",
    "outputId": "260453ca-a95f-4393-8a76-c44f0ccf74a5"
   },
   "outputs": [],
   "source": [
    "# initializing list \n",
    "lis = [ 1 , 3, 5, 6, 2 ] \n",
    "# using reduce to compute sum of list \n",
    "print (\"The sum of the list elements is : \",end=\"\") \n",
    "lambda a,b : a+b,lis"
   ]
  },
  {
   "cell_type": "code",
   "execution_count": null,
   "metadata": {
    "colab": {},
    "colab_type": "code",
    "id": "9Z7FVnwtP3dR"
   },
   "outputs": [],
   "source": []
  },
  {
   "cell_type": "code",
   "execution_count": null,
   "metadata": {
    "colab": {},
    "colab_type": "code",
    "id": "LZH9WyVlP3dZ"
   },
   "outputs": [],
   "source": []
  },
  {
   "cell_type": "code",
   "execution_count": null,
   "metadata": {
    "colab": {},
    "colab_type": "code",
    "id": "Eyfi2wjuP3dk"
   },
   "outputs": [],
   "source": []
  },
  {
   "cell_type": "code",
   "execution_count": null,
   "metadata": {
    "colab": {},
    "colab_type": "code",
    "id": "Kl21dYXXP3dt"
   },
   "outputs": [],
   "source": [
    "# 1. Lambda functions\n",
    "\n",
    "# A lambda function can take any number of arguments, but they can return only one value in the form of expression.\n",
    "# Single one line function ,Anoymous function(no name),no def, no return"
   ]
  },
  {
   "cell_type": "code",
   "execution_count": null,
   "metadata": {
    "colab": {},
    "colab_type": "code",
    "id": "FsO5IEmhP3d8",
    "outputId": "44c639e2-0708-4216-ef13-6a0542494e9f"
   },
   "outputs": [],
   "source": [
    "def cem(a,b,c):\n",
    "    return a+b+c\n",
    "\n",
    "print(cem(3,4,5))"
   ]
  },
  {
   "cell_type": "code",
   "execution_count": null,
   "metadata": {
    "colab": {},
    "colab_type": "code",
    "id": "VgCk2SCMP3eH",
    "outputId": "271b7375-0ece-4ec5-cbde-406068a5ecce"
   },
   "outputs": [],
   "source": [
    "add=lambda a,b,c: print(a+b+c)\n",
    "add(4, 5, 1)"
   ]
  },
  {
   "cell_type": "code",
   "execution_count": null,
   "metadata": {
    "colab": {},
    "colab_type": "code",
    "id": "1q-1tgNyP3eR",
    "outputId": "cac9a145-5eea-4805-b4c0-76eb9f8f6757"
   },
   "outputs": [],
   "source": [
    "def biggest(a,b,c):\n",
    "    if(a>b and a>c):\n",
    "        print(a)\n",
    "    elif(b>a and b>c):\n",
    "        print(b)\n",
    "    else:\n",
    "        print(c)\n",
    "        \n",
    "biggest(2,5,8)"
   ]
  },
  {
   "cell_type": "code",
   "execution_count": null,
   "metadata": {
    "colab": {},
    "colab_type": "code",
    "id": "ureosL3PP3eb"
   },
   "outputs": [],
   "source": [
    "lambda a,b,c:a if a>b and a>c else(b if b>a and b>c else c)"
   ]
  },
  {
   "cell_type": "code",
   "execution_count": null,
   "metadata": {
    "colab": {},
    "colab_type": "code",
    "id": "Qk2yXum4P3em",
    "outputId": "1ba215e9-2335-4e15-f56c-3a5415d949e4"
   },
   "outputs": [],
   "source": [
    "# Find Biggest element(Nested If else in lambda)\n",
    "find_max=lambda a,b,c:a if a>b and a>c else (b if b>a and b>c else c)\n",
    "print(find_max(6,15,1))"
   ]
  },
  {
   "cell_type": "code",
   "execution_count": null,
   "metadata": {
    "colab": {},
    "colab_type": "code",
    "id": "H533SDrxP3eu"
   },
   "outputs": [],
   "source": []
  },
  {
   "cell_type": "code",
   "execution_count": null,
   "metadata": {
    "colab": {},
    "colab_type": "code",
    "id": "L28IgvWlP3e3"
   },
   "outputs": [],
   "source": [
    "# Map\n",
    "\n",
    "# Syntax: map(fun, iter)\n",
    "#  fun : It is a function to which map passes each element of given iterable.\n",
    "#  iter : It is a iterable which is to be mapped.\n",
    "# You can pass one or more iterable to the map() function.\n",
    "# The returned value from map() (map object) then can be passed to functions like list() (to create a list), set() (to create a set) ."
   ]
  },
  {
   "cell_type": "code",
   "execution_count": null,
   "metadata": {
    "colab": {},
    "colab_type": "code",
    "id": "uXxzCU2kP3fI",
    "outputId": "d428fd39-097d-495f-bda5-0da3d1a5ba35"
   },
   "outputs": [],
   "source": [
    "nums = [1,2,3,4,5]\n",
    "nums = nums*nums\n",
    "print(nums)"
   ]
  },
  {
   "cell_type": "code",
   "execution_count": null,
   "metadata": {
    "colab": {},
    "colab_type": "code",
    "id": "cXbzTaEGP3fY",
    "outputId": "1638a2f4-e0e4-4202-c716-1b4a2c608988"
   },
   "outputs": [],
   "source": [
    "nums = [1, 2, 3, 4, 5] \n",
    "for i in range(len(nums)):\n",
    "    # i =1,2,3,4,5\n",
    "    nums[i]=nums[i]**2\n",
    "print(nums)"
   ]
  },
  {
   "cell_type": "code",
   "execution_count": null,
   "metadata": {
    "colab": {},
    "colab_type": "code",
    "id": "hg_jXhPcP3fl",
    "outputId": "edad138f-1493-4514-c691-ae21716cc226"
   },
   "outputs": [],
   "source": [
    "nums = [1, 2, 3, 4, 5]  \n",
    "def sq(n):    \n",
    "    return n**2\n",
    "\n",
    "#print(sq(nums))\n",
    "list5=[]\n",
    "\n",
    "for i in nums:\n",
    "    #1,2\n",
    "    print(sq(i),end=\" \") # 1,4\n",
    "    list5.append(sq(i)) #[1,4]\n",
    "print('\\n')\n",
    "print(list5)\n",
    "print('\\n')\n",
    "print('\\n')\n",
    "#print(sq(nums))\n",
    "\n",
    "print(list(map(sq,nums)))\n",
    "\n",
    "#square = list(map(sq, nums))\n",
    "#print(square)"
   ]
  },
  {
   "cell_type": "code",
   "execution_count": null,
   "metadata": {
    "colab": {},
    "colab_type": "code",
    "id": "WWQ9_gT6P3fx",
    "outputId": "dbf391e8-3b3d-417f-da7a-04437f2a946b"
   },
   "outputs": [],
   "source": [
    "nums = [1, 2, 3, 4, 5]  \n",
    "def sq(n):    \n",
    "    return n*n  \n",
    "square = tuple(map(sq, nums))\n",
    "print(square)"
   ]
  },
  {
   "cell_type": "code",
   "execution_count": null,
   "metadata": {
    "colab": {},
    "colab_type": "code",
    "id": "OHMyvL88P3f5",
    "outputId": "5b390e4d-e3d4-4052-d53e-603380aeb430"
   },
   "outputs": [],
   "source": [
    "nums = [1, 2, 3, 4, 5, 3]  \n",
    "def sq(n):    \n",
    "    return n*n  \n",
    "square = set(map(sq, nums))\n",
    "print(square)"
   ]
  },
  {
   "cell_type": "code",
   "execution_count": null,
   "metadata": {
    "colab": {},
    "colab_type": "code",
    "id": "_CqxpkkIP3gD",
    "outputId": "043b7244-6546-4781-84d8-768fa97aaca6"
   },
   "outputs": [],
   "source": [
    "# Using Lambda inside map\n",
    "nums = [1, 2, 3, 4, 5]\n",
    "\n",
    "print(list(map(lambda x:x**2,nums)))\n",
    "\n",
    "\n",
    "square = list(map(lambda x: x**2, nums))\n",
    "print(square)\n",
    "\n",
    "print(5==5)"
   ]
  },
  {
   "cell_type": "code",
   "execution_count": null,
   "metadata": {
    "colab": {},
    "colab_type": "code",
    "id": "_XHiMSoiP3gJ",
    "outputId": "13aeb090-eaa5-4432-c5b1-8da92385235f"
   },
   "outputs": [],
   "source": [
    "#Convert all elements of list in uppercase\n",
    "people = [\"lokesh\", \"bob\", \"tom\", \"developer\"]\n",
    "\n",
    "\n",
    "print(tuple(map(lambda x:x.capitalize(), people)))\n",
    "\n",
    "up2 = list(map(lambda x:x.capitalize(),people))\n",
    "\n",
    "up = list(map(lambda x: x.upper(), people))\n",
    "print(up)"
   ]
  },
  {
   "cell_type": "code",
   "execution_count": null,
   "metadata": {
    "colab": {},
    "colab_type": "code",
    "id": "3P8I3wXbP3gR",
    "outputId": "906aaf7e-5682-4b8a-fd07-2f65af1cab0c"
   },
   "outputs": [],
   "source": [
    "names = [\n",
    "    {'first': 'lokesh', 'last': 'sharma'},\n",
    "    {'first': 'Astha', 'last': 'verma'},\n",
    "    {'first': 'jiu', 'last': 'rai'}\n",
    " ]\n",
    "print(names)\n",
    "print(type(names))\n",
    "\n",
    "first_names = list(map(lambda x: x['first'], names))\n",
    "print(first_names)"
   ]
  },
  {
   "cell_type": "code",
   "execution_count": null,
   "metadata": {
    "colab": {},
    "colab_type": "code",
    "id": "0EWWSf-LP3gW",
    "outputId": "0d88f55b-9dd8-4ef8-e1f3-d660b66ee9a0"
   },
   "outputs": [],
   "source": [
    "names"
   ]
  },
  {
   "cell_type": "code",
   "execution_count": null,
   "metadata": {
    "colab": {},
    "colab_type": "code",
    "id": "os3zxMHlP3gc"
   },
   "outputs": [],
   "source": []
  },
  {
   "cell_type": "code",
   "execution_count": null,
   "metadata": {
    "colab": {},
    "colab_type": "code",
    "id": "5SNeiqlIP3gg",
    "outputId": "ce274718-7ca4-400b-bb21-c94ab1750447"
   },
   "outputs": [],
   "source": [
    "# Without Map\n",
    "\n",
    "my_pets = ['alfred', 'tabitha', 'william', 'arla']\n",
    "uppered_pets = []\n",
    "\n",
    "for pet in my_pets:\n",
    "    pet_ = pet.upper()\n",
    "    uppered_pets.append(pet_)\n",
    "\n",
    "print(uppered_pets)"
   ]
  },
  {
   "cell_type": "code",
   "execution_count": null,
   "metadata": {
    "colab": {},
    "colab_type": "code",
    "id": "U4IZmuilP3gn",
    "outputId": "589d38d3-0b82-442d-e51a-c10841948c1d"
   },
   "outputs": [],
   "source": [
    "# With Map\n",
    "\n",
    "my_pets = ['alfred', 'tabitha', 'william', 'arla']\n",
    "\n",
    "uppered_pets = list(map(str.upper, my_pets))\n",
    "\n",
    "print(uppered_pets)"
   ]
  },
  {
   "cell_type": "code",
   "execution_count": null,
   "metadata": {
    "colab": {},
    "colab_type": "code",
    "id": "LDadlH4xP3gs"
   },
   "outputs": [],
   "source": []
  },
  {
   "cell_type": "code",
   "execution_count": null,
   "metadata": {
    "colab": {},
    "colab_type": "code",
    "id": "KYdPHoQJP3gx"
   },
   "outputs": [],
   "source": [
    "# Filter\n",
    "\n",
    "# Syntax: filter(fun, Iter)\n",
    "#  fun: function that tests if each element of a sequence true or not.\n",
    "#  Iter: Iterable which needs to be filtered."
   ]
  },
  {
   "cell_type": "code",
   "execution_count": null,
   "metadata": {
    "colab": {},
    "colab_type": "code",
    "id": "HFSVd5I8P3g2",
    "outputId": "bc741b2c-8e5e-4418-98b4-8ad537b16879"
   },
   "outputs": [],
   "source": [
    "#Filter out even and odd numbers from list\n",
    "seq = [0, 1, 2, 3, 4, 5]\n",
    "\n",
    "# result contains odd numbers of the list\n",
    "result = filter(lambda x: x % 2 == 1, seq)\n",
    "print(\"Odd numbers:\",list(result))\n",
    "\n",
    "# result contains even numbers of the list\n",
    "result = filter(lambda x: x % 2 == 0, seq)\n",
    "print(\"Even numbers:\",list(result))"
   ]
  },
  {
   "cell_type": "code",
   "execution_count": null,
   "metadata": {
    "colab": {},
    "colab_type": "code",
    "id": "HL1kYQvsP3g_"
   },
   "outputs": [],
   "source": []
  },
  {
   "cell_type": "code",
   "execution_count": null,
   "metadata": {
    "colab": {},
    "colab_type": "code",
    "id": "mvKYre53P3hE",
    "outputId": "81bc1362-1007-484e-d5e5-5539c5ebab2d"
   },
   "outputs": [],
   "source": [
    "# Without filter\n",
    "\n",
    "\n",
    "numbers = [1,2,3,4,5]\n",
    "\n",
    "even_numbers = []\n",
    "for number in numbers:\n",
    "    if (number % 2) == 0:\n",
    "        even_numbers.append(number)\n",
    "\n",
    "print(even_numbers)\n",
    "\n",
    "\n",
    "print(list(filter(lambda x:x%2==0,numbers)))\n"
   ]
  },
  {
   "cell_type": "code",
   "execution_count": null,
   "metadata": {
    "colab": {},
    "colab_type": "code",
    "id": "WKB4K5_dP3hK"
   },
   "outputs": [],
   "source": [
    "# With filter\n",
    "\n",
    "def even(number):\n",
    "    if (number % 2) == 0:\n",
    "        return True\n",
    "    return False\n",
    "\n",
    "numbers = [1,2,3,4,5]\n",
    "even_numbers = filter(even, numbers)"
   ]
  },
  {
   "cell_type": "code",
   "execution_count": null,
   "metadata": {
    "colab": {},
    "colab_type": "code",
    "id": "spqXjM8hP3hR",
    "outputId": "9f281c4d-86ba-413f-8221-ae55eb974064"
   },
   "outputs": [],
   "source": [
    "# With filter and lambda\n",
    "\n",
    "numbers = [1,2,3,4,5]\n",
    "\n",
    "even_numbers = list(filter(lambda a: a%2==1, numbers))\n",
    "even_numbers"
   ]
  },
  {
   "cell_type": "code",
   "execution_count": null,
   "metadata": {
    "colab": {},
    "colab_type": "code",
    "id": "ne30afIuP3hW"
   },
   "outputs": [],
   "source": []
  },
  {
   "cell_type": "code",
   "execution_count": null,
   "metadata": {
    "colab": {},
    "colab_type": "code",
    "id": "1JM8vpKVP3hb"
   },
   "outputs": [],
   "source": [
    "# A dictionary Users(twitter database) is given in which we have username and tweets.\n",
    "users = [\n",
    "    {\"username\": 'samuel', \"tweets\": [\"i love cake\", \"i am good\"]},\n",
    "    {\"username\": 'andy', \"tweets\": []},\n",
    "    {\"username\": 'kumal', \"tweets\": [\"India\", \"Python\"]},\n",
    "    {\"username\": 'sam', \"tweets\": []},\n",
    "    {\"username\": 'lokesh', \"tweets\": [\"i am good\"]},\n",
    "]"
   ]
  },
  {
   "cell_type": "code",
   "execution_count": null,
   "metadata": {
    "colab": {},
    "colab_type": "code",
    "id": "NBlWpV_WP3hf",
    "outputId": "959764fa-6c34-45b4-c64d-87a708f988fe"
   },
   "outputs": [],
   "source": [
    "users"
   ]
  },
  {
   "cell_type": "code",
   "execution_count": null,
   "metadata": {
    "colab": {},
    "colab_type": "code",
    "id": "IeBNMU24P3hk",
    "outputId": "842ab0bf-532b-469a-d665-f55767e9db3a"
   },
   "outputs": [],
   "source": [
    "# Filter out Users which dont have any tweets/Inactive Users\n",
    "print(tuple(filter(lambda x: not x['tweets'], users)))\n",
    "\n",
    "inactive_users = list(filter(lambda a: a['tweets'], users))\n",
    "print(inactive_users)"
   ]
  },
  {
   "cell_type": "code",
   "execution_count": null,
   "metadata": {
    "colab": {},
    "colab_type": "code",
    "id": "He4cxwDeP3ho",
    "outputId": "95751364-bf32-43be-d078-7cba50548992"
   },
   "outputs": [],
   "source": [
    "# Filter inactive users with just username in uppercase.\n",
    "inactive_users=list(map(lambda x:x[\"username\"].upper(),\n",
    "                    filter(lambda a:not a['tweets'], users)))\n",
    "\n",
    "\n",
    "print(list(map(lambda x:x['username'].upper(),filter(lambda x: not x['tweets'],users))))\n",
    "\n",
    "\n",
    "print(inactive_users)"
   ]
  },
  {
   "cell_type": "code",
   "execution_count": null,
   "metadata": {
    "colab": {},
    "colab_type": "code",
    "id": "bhq87T0kP3hq",
    "outputId": "dbcd0df8-769a-42aa-dcaf-cd1ab4d85192"
   },
   "outputs": [],
   "source": [
    "# Return a new list with the string “your name is” + name ,but only if length of name is bigger than 4\n",
    "names=['lokesh','lassie','bob','to']\n",
    "new=list(map(lambda name:f\"your name is {name}\",\n",
    "        filter(lambda x:len(x)>4,names)))\n",
    "print(new)"
   ]
  },
  {
   "cell_type": "code",
   "execution_count": null,
   "metadata": {
    "colab": {},
    "colab_type": "code",
    "id": "XkYkBqmEP3ht",
    "outputId": "24b77301-4ce5-4a33-e204-baf19300025a"
   },
   "outputs": [],
   "source": [
    "# Zip\n",
    "\n",
    "# Without Zip\n",
    "\n",
    "even_numbers = [2,4,6,7,8,9,2,3,4]\n",
    "even_numbers_squared = [4,16,36,49,64,81,4,9,16]\n",
    "combined = []\n",
    "even_numbers_index = 0\n",
    "for number  in even_numbers:\n",
    "    #number =2, 4\n",
    "    squared = even_numbers_squared[even_numbers_index] #squared = 4, 16\n",
    "    squared_tuple = (number, squared)\n",
    "    combined.append(squared_tuple)\n",
    "    even_numbers_index+=1\n",
    "    \n",
    "print(combined)"
   ]
  },
  {
   "cell_type": "code",
   "execution_count": null,
   "metadata": {
    "colab": {},
    "colab_type": "code",
    "id": "bCNJE1p6P3hv",
    "outputId": "c4f2b503-984e-4052-dae4-02b3eee11e49"
   },
   "outputs": [],
   "source": [
    "# With Zip\n",
    "\n",
    "even_numbers = [2,4,6,7,8,9,2,3,4]\n",
    "even_numbers_squared = [4,16,36,49,64,81,4,9,16]\n",
    "zipped_result = zip(even_numbers, even_numbers_squared)\n",
    "\n",
    "zip(even_numbers,even_numbers_squared)\n",
    "\n",
    "list(zipped_result)\n"
   ]
  },
  {
   "cell_type": "code",
   "execution_count": null,
   "metadata": {
    "colab": {},
    "colab_type": "code",
    "id": "nY3f2rLKP3h0"
   },
   "outputs": [],
   "source": []
  },
  {
   "cell_type": "code",
   "execution_count": null,
   "metadata": {
    "colab": {},
    "colab_type": "code",
    "id": "nV5pwkUkP3h5"
   },
   "outputs": [],
   "source": []
  },
  {
   "cell_type": "code",
   "execution_count": null,
   "metadata": {
    "colab": {},
    "colab_type": "code",
    "id": "hxfrjZWQP3h_"
   },
   "outputs": [],
   "source": [
    "# REDUCE\n",
    "\n",
    "# The reduce() function accepts a function and a sequence and returns a single value calculated as follows:\n",
    "#   Initially, the function is called with the first two items from the sequence and the result is returned.\n",
    "#   The function is then called again with the result obtained in step 1 and the next value in the sequence. \n",
    "#     This process keeps repeating until there are items in the sequence."
   ]
  },
  {
   "cell_type": "code",
   "execution_count": null,
   "metadata": {
    "colab": {},
    "colab_type": "code",
    "id": "V699nf58P3iD",
    "outputId": "bf0c5f74-1698-4a28-eb82-bd5dee1ded8c"
   },
   "outputs": [],
   "source": [
    "from functools import reduce\n",
    "\n",
    "seq=[2,3,4,5,6]\n",
    "multiply=reduce(lambda a,b:a*b,seq)\n",
    "\n",
    "reduce(lambda a,b:a*b,seq)\n",
    "\n",
    "#  a=2, b=3 -> reduce -> a =2*3= 6\n",
    "# a =6, b=4 -> reduce -> a = 6*4=24\n",
    "# a = 24, b=5-> a=120\n",
    "# a= 120, b=6-> a=720\n",
    "\n",
    "\n",
    "print(multiply)"
   ]
  },
  {
   "cell_type": "code",
   "execution_count": null,
   "metadata": {
    "colab": {},
    "colab_type": "code",
    "id": "xvdTyM7gP3iI"
   },
   "outputs": [],
   "source": []
  },
  {
   "cell_type": "code",
   "execution_count": null,
   "metadata": {
    "colab": {},
    "colab_type": "code",
    "id": "a_wtFZz6P3iM"
   },
   "outputs": [],
   "source": []
  },
  {
   "cell_type": "code",
   "execution_count": null,
   "metadata": {
    "colab": {},
    "colab_type": "code",
    "id": "DpCiL30-P3iQ"
   },
   "outputs": [],
   "source": []
  },
  {
   "cell_type": "code",
   "execution_count": null,
   "metadata": {
    "colab": {},
    "colab_type": "code",
    "id": "d1Gxyx4oP3iS",
    "outputId": "2174d807-0c8d-464f-d608-f74d4b1156bd"
   },
   "outputs": [],
   "source": [
    "from functools import reduce \n",
    "\n",
    "# Use map to print the square of each numbers rounded\n",
    "# to two decimal places\n",
    "my_floats = [4.35, 6.09, 3.25, 9.77, 2.16, 8.88, 4.59]\n",
    "\n",
    "# Use filter to print only the names that are less than \n",
    "# or equal to seven letters\n",
    "my_names = [\"olumide\", \"akinremi\", \"josiah\", \"temidayo\", \"omoseun\"]\n",
    "\n",
    "# Use reduce to print the product of these numbers\n",
    "my_numbers = [4, 6, 9, 23, 5]\n",
    "\n",
    "# Fix all three respectively.\n",
    "map_result = list(map(lambda x: round(x), my_floats))\n",
    "filter_result = list(filter(lambda name: len(name)>7, my_names))\n",
    "reduce_result = reduce(lambda num1, num2: num1 * num2, my_numbers, 1)\n",
    "\n",
    "print(map_result)\n",
    "print(filter_result)\n",
    "print(reduce_result)"
   ]
  },
  {
   "cell_type": "code",
   "execution_count": null,
   "metadata": {
    "colab": {},
    "colab_type": "code",
    "id": "s83GFARVP3iU"
   },
   "outputs": [],
   "source": []
  }
 ],
 "metadata": {
  "colab": {
   "name": "Lambda zip map reduce edited.ipynb",
   "provenance": []
  },
  "kernelspec": {
   "display_name": "Python 3",
   "language": "python",
   "name": "python3"
  },
  "language_info": {
   "codemirror_mode": {
    "name": "ipython",
    "version": 3
   },
   "file_extension": ".py",
   "mimetype": "text/x-python",
   "name": "python",
   "nbconvert_exporter": "python",
   "pygments_lexer": "ipython3",
   "version": "3.8.3"
  }
 },
 "nbformat": 4,
 "nbformat_minor": 1
}
